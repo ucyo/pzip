{
 "cells": [
  {
   "cell_type": "code",
   "execution_count": 1,
   "metadata": {},
   "outputs": [],
   "source": [
    "from glob import glob\n",
    "import pandas as pd\n",
    "from io import StringIO\n",
    "import numpy as np\n",
    "from collections import namedtuple\n",
    "from matplotlib import pyplot as plt\n",
    "%matplotlib inline"
   ]
  },
  {
   "cell_type": "code",
   "execution_count": 2,
   "metadata": {},
   "outputs": [
    {
     "data": {
      "text/plain": [
       "('0b10100100', '0b10110000')"
      ]
     },
     "execution_count": 2,
     "metadata": {},
     "output_type": "execute_result"
    }
   ],
   "source": [
    "a = int(\"11010010\",2)\n",
    "b = int(\"11010101\",2)\n",
    "diff = b - a\n",
    "\n",
    "bin(a - diff), bin(b + 2*diff)\n",
    "\n",
    "a = int(\"11010010\",2) - int(\"1101\",2)\n",
    "b = int(\"11010101\",2) - int(\"1101\",2)\n",
    "diff = b - a\n",
    "\n",
    "bin(a - diff), bin(b + 2*diff)\n",
    "\n",
    "bin(int(\"11010101\",2) - \n",
    "int(\"10101010\",2))\n",
    "\n",
    "a = int(\"11010010\",2) - int(\"101011\",2)\n",
    "b = int(\"11010101\",2) - int(\"101011\",2)\n",
    "diff = b - a\n",
    "\n",
    "bin(a - diff), bin(b + 2*diff)"
   ]
  },
  {
   "cell_type": "code",
   "execution_count": 3,
   "metadata": {},
   "outputs": [],
   "source": [
    "num =  int(\"11010010\",2)\n",
    "pred = int(\"11010101\",2)\n",
    "center = 4\n",
    "# shift_calculation(num, 32 - center, pred, domain=4)"
   ]
  },
  {
   "cell_type": "markdown",
   "metadata": {},
   "source": [
    "### Shift and LZC calculation"
   ]
  },
  {
   "cell_type": "code",
   "execution_count": 4,
   "metadata": {},
   "outputs": [],
   "source": [
    "def shift_calculation(num, center, pred, domain=4, bits=32):\n",
    "    string_repr = np.binary_repr(pred,bits)\n",
    "    right,left = min(center + domain, bits), max(center - domain, 0)\n",
    "    last_bit = string_repr[left-1]\n",
    "    if last_bit == \"0\":\n",
    "        val = \"10\"\n",
    "    else:\n",
    "        val = \"01\"\n",
    "    goal = val*(domain+(32-right))\n",
    "    tmp = string_repr[:left]\n",
    "    h = tmp+goal\n",
    "    shift = int(goal,2) - pred\n",
    "    return shift"
   ]
  },
  {
   "cell_type": "code",
   "execution_count": 5,
   "metadata": {},
   "outputs": [],
   "source": [
    "def lzc(val, bits=32):\n",
    "    \"\"\"Count leading zeroes.\"\"\"\n",
    "    cnt = 0\n",
    "    for i in range(0, bits):\n",
    "        if val & (1 << (bits - 1 - i)) != 0:\n",
    "            break\n",
    "        cnt += 1\n",
    "    return cnt\n",
    "lzcu = np.frompyfunc(lzc, 2, 1)"
   ]
  },
  {
   "cell_type": "markdown",
   "metadata": {},
   "source": [
    "# Test\n",
    "## Read data and prepare dataframe"
   ]
  },
  {
   "cell_type": "code",
   "execution_count": 6,
   "metadata": {},
   "outputs": [],
   "source": [
    "truth = np.fromfile(\"test.npf\", \"int64\")"
   ]
  },
  {
   "cell_type": "code",
   "execution_count": 7,
   "metadata": {},
   "outputs": [
    {
     "data": {
      "text/html": [
       "<div>\n",
       "<style scoped>\n",
       "    .dataframe tbody tr th:only-of-type {\n",
       "        vertical-align: middle;\n",
       "    }\n",
       "\n",
       "    .dataframe tbody tr th {\n",
       "        vertical-align: top;\n",
       "    }\n",
       "\n",
       "    .dataframe thead th {\n",
       "        text-align: right;\n",
       "    }\n",
       "</style>\n",
       "<table border=\"1\" class=\"dataframe\">\n",
       "  <thead>\n",
       "    <tr style=\"text-align: right;\">\n",
       "      <th></th>\n",
       "      <th>truth</th>\n",
       "      <th>prediction</th>\n",
       "      <th>shifted_prediction</th>\n",
       "      <th>shifted_truth</th>\n",
       "      <th>shift</th>\n",
       "      <th>shifted_residual</th>\n",
       "      <th>normal_residual</th>\n",
       "      <th>shifted_lzc</th>\n",
       "      <th>normal_lzc</th>\n",
       "    </tr>\n",
       "  </thead>\n",
       "  <tbody>\n",
       "    <tr>\n",
       "      <th>0</th>\n",
       "      <td>1228193487</td>\n",
       "      <td>0</td>\n",
       "      <td>0</td>\n",
       "      <td>0</td>\n",
       "      <td>0</td>\n",
       "      <td>0</td>\n",
       "      <td>0</td>\n",
       "      <td>0</td>\n",
       "      <td>0</td>\n",
       "    </tr>\n",
       "    <tr>\n",
       "      <th>1</th>\n",
       "      <td>1228175479</td>\n",
       "      <td>0</td>\n",
       "      <td>0</td>\n",
       "      <td>0</td>\n",
       "      <td>0</td>\n",
       "      <td>0</td>\n",
       "      <td>0</td>\n",
       "      <td>0</td>\n",
       "      <td>0</td>\n",
       "    </tr>\n",
       "    <tr>\n",
       "      <th>2</th>\n",
       "      <td>1228178323</td>\n",
       "      <td>0</td>\n",
       "      <td>0</td>\n",
       "      <td>0</td>\n",
       "      <td>0</td>\n",
       "      <td>0</td>\n",
       "      <td>0</td>\n",
       "      <td>0</td>\n",
       "      <td>0</td>\n",
       "    </tr>\n",
       "    <tr>\n",
       "      <th>3</th>\n",
       "      <td>1228204314</td>\n",
       "      <td>0</td>\n",
       "      <td>0</td>\n",
       "      <td>0</td>\n",
       "      <td>0</td>\n",
       "      <td>0</td>\n",
       "      <td>0</td>\n",
       "      <td>0</td>\n",
       "      <td>0</td>\n",
       "    </tr>\n",
       "    <tr>\n",
       "      <th>4</th>\n",
       "      <td>1228217687</td>\n",
       "      <td>0</td>\n",
       "      <td>0</td>\n",
       "      <td>0</td>\n",
       "      <td>0</td>\n",
       "      <td>0</td>\n",
       "      <td>0</td>\n",
       "      <td>0</td>\n",
       "      <td>0</td>\n",
       "    </tr>\n",
       "  </tbody>\n",
       "</table>\n",
       "</div>"
      ],
      "text/plain": [
       "        truth  prediction  shifted_prediction  shifted_truth  shift  \\\n",
       "0  1228193487           0                   0              0      0   \n",
       "1  1228175479           0                   0              0      0   \n",
       "2  1228178323           0                   0              0      0   \n",
       "3  1228204314           0                   0              0      0   \n",
       "4  1228217687           0                   0              0      0   \n",
       "\n",
       "   shifted_residual  normal_residual  shifted_lzc  normal_lzc  \n",
       "0                 0                0            0           0  \n",
       "1                 0                0            0           0  \n",
       "2                 0                0            0           0  \n",
       "3                 0                0            0           0  \n",
       "4                 0                0            0           0  "
      ]
     },
     "execution_count": 7,
     "metadata": {},
     "output_type": "execute_result"
    }
   ],
   "source": [
    "df = pd.DataFrame({\"truth\":truth})\n",
    "df[\"prediction\"] = 0\n",
    "\n",
    "df[\"shifted_prediction\"] = 0\n",
    "df[\"shifted_truth\"] = 0\n",
    "df[\"shift\"] = 0\n",
    "\n",
    "df[\"shifted_residual\"] = 0\n",
    "df[\"normal_residual\"] = 0\n",
    "\n",
    "df[\"shifted_lzc\"] = 0\n",
    "df[\"normal_lzc\"] = 0\n",
    "\n",
    "df.head()"
   ]
  },
  {
   "cell_type": "markdown",
   "metadata": {},
   "source": [
    "## Calculate predictions (shifted and normal)"
   ]
  },
  {
   "cell_type": "code",
   "execution_count": 8,
   "metadata": {},
   "outputs": [
    {
     "data": {
      "text/html": [
       "<div>\n",
       "<style scoped>\n",
       "    .dataframe tbody tr th:only-of-type {\n",
       "        vertical-align: middle;\n",
       "    }\n",
       "\n",
       "    .dataframe tbody tr th {\n",
       "        vertical-align: top;\n",
       "    }\n",
       "\n",
       "    .dataframe thead th {\n",
       "        text-align: right;\n",
       "    }\n",
       "</style>\n",
       "<table border=\"1\" class=\"dataframe\">\n",
       "  <thead>\n",
       "    <tr style=\"text-align: right;\">\n",
       "      <th></th>\n",
       "      <th>truth</th>\n",
       "      <th>prediction</th>\n",
       "      <th>shifted_prediction</th>\n",
       "      <th>shifted_truth</th>\n",
       "      <th>shift</th>\n",
       "      <th>shifted_residual</th>\n",
       "      <th>normal_residual</th>\n",
       "      <th>shifted_lzc</th>\n",
       "      <th>normal_lzc</th>\n",
       "    </tr>\n",
       "  </thead>\n",
       "  <tbody>\n",
       "    <tr>\n",
       "      <th>0</th>\n",
       "      <td>1228193487</td>\n",
       "      <td>0</td>\n",
       "      <td>0</td>\n",
       "      <td>0</td>\n",
       "      <td>0</td>\n",
       "      <td>0</td>\n",
       "      <td>0</td>\n",
       "      <td>0</td>\n",
       "      <td>0</td>\n",
       "    </tr>\n",
       "    <tr>\n",
       "      <th>1</th>\n",
       "      <td>1228175479</td>\n",
       "      <td>0</td>\n",
       "      <td>0</td>\n",
       "      <td>0</td>\n",
       "      <td>0</td>\n",
       "      <td>0</td>\n",
       "      <td>0</td>\n",
       "      <td>0</td>\n",
       "      <td>0</td>\n",
       "    </tr>\n",
       "    <tr>\n",
       "      <th>2</th>\n",
       "      <td>1228178323</td>\n",
       "      <td>1228175479</td>\n",
       "      <td>1431655765</td>\n",
       "      <td>1431658609</td>\n",
       "      <td>203480286</td>\n",
       "      <td>13604</td>\n",
       "      <td>64484</td>\n",
       "      <td>18</td>\n",
       "      <td>16</td>\n",
       "    </tr>\n",
       "    <tr>\n",
       "      <th>3</th>\n",
       "      <td>1228204314</td>\n",
       "      <td>1228178323</td>\n",
       "      <td>1431655765</td>\n",
       "      <td>1431681756</td>\n",
       "      <td>203477442</td>\n",
       "      <td>61321</td>\n",
       "      <td>27273</td>\n",
       "      <td>16</td>\n",
       "      <td>17</td>\n",
       "    </tr>\n",
       "    <tr>\n",
       "      <th>4</th>\n",
       "      <td>1228217687</td>\n",
       "      <td>1228204314</td>\n",
       "      <td>5726623061</td>\n",
       "      <td>5726636434</td>\n",
       "      <td>4498418747</td>\n",
       "      <td>56519</td>\n",
       "      <td>128077</td>\n",
       "      <td>16</td>\n",
       "      <td>15</td>\n",
       "    </tr>\n",
       "  </tbody>\n",
       "</table>\n",
       "</div>"
      ],
      "text/plain": [
       "        truth  prediction  shifted_prediction  shifted_truth       shift  \\\n",
       "0  1228193487           0                   0              0           0   \n",
       "1  1228175479           0                   0              0           0   \n",
       "2  1228178323  1228175479          1431655765     1431658609   203480286   \n",
       "3  1228204314  1228178323          1431655765     1431681756   203477442   \n",
       "4  1228217687  1228204314          5726623061     5726636434  4498418747   \n",
       "\n",
       "   shifted_residual  normal_residual  shifted_lzc  normal_lzc  \n",
       "0                 0                0            0           0  \n",
       "1                 0                0            0           0  \n",
       "2             13604            64484           18          16  \n",
       "3             61321            27273           16          17  \n",
       "4             56519           128077           16          15  "
      ]
     },
     "execution_count": 8,
     "metadata": {},
     "output_type": "execute_result"
    }
   ],
   "source": [
    "for i in range(2,df.truth.size):\n",
    "    df[\"prediction\"][i] = df[\"truth\"][i-1]\n",
    "    center = 32 - lzc(df[\"truth\"][i-2] ^ df[\"truth\"][i-1])\n",
    "    df[\"shift\"][i] = shift_calculation(None, center,df[\"prediction\"][i],domain=4)\n",
    "    df[\"shifted_prediction\"][i] = df[\"prediction\"][i] + df[\"shift\"][i]\n",
    "    df[\"shifted_truth\"][i] = df[\"truth\"][i] + df[\"shift\"][i]\n",
    "    df[\"shifted_residual\"][i] = df[\"shifted_prediction\"][i] ^ df[\"shifted_truth\"][i]\n",
    "    df[\"normal_residual\"][i] = df[\"prediction\"][i] ^ df[\"truth\"][i]\n",
    "    df[\"shifted_lzc\"][i] = lzc(df[\"shifted_prediction\"][i] ^ df[\"shifted_truth\"][i])\n",
    "    df[\"normal_lzc\"][i] = lzc(df[\"prediction\"][i] ^ df[\"truth\"][i])\n",
    "df.head()"
   ]
  },
  {
   "cell_type": "markdown",
   "metadata": {},
   "source": [
    "## Analysis"
   ]
  },
  {
   "cell_type": "code",
   "execution_count": 9,
   "metadata": {},
   "outputs": [
    {
     "name": "stdout",
     "output_type": "stream",
     "text": [
      "\n",
      "    Shifted LZC >= Former LZC (of 1000): 695\n",
      "    Sum Shifted LZC vs. Sum Former LZC : 18032 vs. 18308 (diff: 276)\n",
      "    % Shifted LZC vs. % Former LZC : 56.35% vs. 57.2125%\n",
      "    \n"
     ]
    }
   ],
   "source": [
    "analysis = [ \n",
    "   (df[\"normal_lzc\"] <= df[\"shifted_lzc\"]).sum(), \n",
    "   (df[\"shifted_lzc\"]-df[\"normal_lzc\"]).sum(), \n",
    "   df[\"normal_lzc\"].sum(), \n",
    "   df[\"shifted_lzc\"].sum(),\n",
    "   df[\"normal_lzc\"].sum()/(df[\"normal_lzc\"].size*32) * 100,\n",
    "   df[\"shifted_lzc\"].sum()/(df[\"shifted_lzc\"].size*32) * 100\n",
    "]\n",
    "print(\n",
    "    \"\"\"\n",
    "    Shifted LZC >= Former LZC (of 1000): {0}\n",
    "    Sum Shifted LZC vs. Sum Former LZC : {2} vs. {3} (diff: {1})\n",
    "    % Shifted LZC vs. % Former LZC : {4}% vs. {5}%\n",
    "    \"\"\".format(*analysis))"
   ]
  },
  {
   "cell_type": "markdown",
   "metadata": {},
   "source": [
    "## Calculate reconstructions (shifted and normal)"
   ]
  },
  {
   "cell_type": "code",
   "execution_count": 10,
   "metadata": {},
   "outputs": [],
   "source": [
    "# Reconstruction of original true value"
   ]
  },
  {
   "cell_type": "code",
   "execution_count": 11,
   "metadata": {},
   "outputs": [],
   "source": [
    "df[\"reconstruct\"] = 0\n",
    "df[\"shifted_reconstruct\"] = 0"
   ]
  },
  {
   "cell_type": "code",
   "execution_count": 12,
   "metadata": {},
   "outputs": [],
   "source": [
    "for i in range(2,df.truth.size):\n",
    "    center = 32 - lzc(df[\"truth\"][i-2] ^ df[\"truth\"][i-1])\n",
    "    shift = shift_calculation(None, center,df[\"prediction\"][i],domain=4)\n",
    "    shifted_truth = (df[\"prediction\"][i] + shift) ^ (df[\"shifted_residual\"][i] + shift) - shift\n",
    "    df[\"shifted_reconstruct\"][i] = shifted_truth - shift\n",
    "    df[\"reconstruct\"][i] = df[\"prediction\"][i] ^ df[\"normal_residual\"][i]"
   ]
  },
  {
   "cell_type": "code",
   "execution_count": 13,
   "metadata": {},
   "outputs": [
    {
     "data": {
      "text/plain": [
       "(True, True)"
      ]
     },
     "execution_count": 13,
     "metadata": {},
     "output_type": "execute_result"
    }
   ],
   "source": [
    "(np.array_equal(df[\"truth\"][2:],df[\"reconstruct\"][2:]),\n",
    "np.array_equal(df[\"truth\"][2:],df[\"shifted_reconstruct\"][2:]))\n",
    "# reconstruct successful?"
   ]
  },
  {
   "cell_type": "code",
   "execution_count": 14,
   "metadata": {},
   "outputs": [
    {
     "data": {
      "text/html": [
       "<div>\n",
       "<style scoped>\n",
       "    .dataframe tbody tr th:only-of-type {\n",
       "        vertical-align: middle;\n",
       "    }\n",
       "\n",
       "    .dataframe tbody tr th {\n",
       "        vertical-align: top;\n",
       "    }\n",
       "\n",
       "    .dataframe thead th {\n",
       "        text-align: right;\n",
       "    }\n",
       "</style>\n",
       "<table border=\"1\" class=\"dataframe\">\n",
       "  <thead>\n",
       "    <tr style=\"text-align: right;\">\n",
       "      <th></th>\n",
       "      <th>truth</th>\n",
       "      <th>prediction</th>\n",
       "      <th>shifted_prediction</th>\n",
       "      <th>shifted_truth</th>\n",
       "      <th>shift</th>\n",
       "      <th>shifted_residual</th>\n",
       "      <th>normal_residual</th>\n",
       "      <th>shifted_lzc</th>\n",
       "      <th>normal_lzc</th>\n",
       "      <th>reconstruct</th>\n",
       "      <th>shifted_reconstruct</th>\n",
       "    </tr>\n",
       "  </thead>\n",
       "  <tbody>\n",
       "    <tr>\n",
       "      <th>995</th>\n",
       "      <td>1228313117</td>\n",
       "      <td>1228315766</td>\n",
       "      <td>11728124029610</td>\n",
       "      <td>11728124026961</td>\n",
       "      <td>11726895713844</td>\n",
       "      <td>2811</td>\n",
       "      <td>3691</td>\n",
       "      <td>20</td>\n",
       "      <td>20</td>\n",
       "      <td>1228313117</td>\n",
       "      <td>1228313117</td>\n",
       "    </tr>\n",
       "    <tr>\n",
       "      <th>996</th>\n",
       "      <td>1228312804</td>\n",
       "      <td>1228313117</td>\n",
       "      <td>366503875925</td>\n",
       "      <td>366503875612</td>\n",
       "      <td>365275562808</td>\n",
       "      <td>329</td>\n",
       "      <td>761</td>\n",
       "      <td>23</td>\n",
       "      <td>22</td>\n",
       "      <td>1228312804</td>\n",
       "      <td>1228312804</td>\n",
       "    </tr>\n",
       "    <tr>\n",
       "      <th>997</th>\n",
       "      <td>1228311824</td>\n",
       "      <td>1228312804</td>\n",
       "      <td>11728124029610</td>\n",
       "      <td>11728124028630</td>\n",
       "      <td>11726895716806</td>\n",
       "      <td>3196</td>\n",
       "      <td>7668</td>\n",
       "      <td>20</td>\n",
       "      <td>19</td>\n",
       "      <td>1228311824</td>\n",
       "      <td>1228311824</td>\n",
       "    </tr>\n",
       "    <tr>\n",
       "      <th>998</th>\n",
       "      <td>1228308125</td>\n",
       "      <td>1228311824</td>\n",
       "      <td>183251937962</td>\n",
       "      <td>183251934263</td>\n",
       "      <td>182023626138</td>\n",
       "      <td>13981</td>\n",
       "      <td>62349</td>\n",
       "      <td>18</td>\n",
       "      <td>16</td>\n",
       "      <td>1228308125</td>\n",
       "      <td>1228308125</td>\n",
       "    </tr>\n",
       "    <tr>\n",
       "      <th>999</th>\n",
       "      <td>1228305480</td>\n",
       "      <td>1228308125</td>\n",
       "      <td>1431655765</td>\n",
       "      <td>1431653120</td>\n",
       "      <td>203347640</td>\n",
       "      <td>7765</td>\n",
       "      <td>2773</td>\n",
       "      <td>19</td>\n",
       "      <td>20</td>\n",
       "      <td>1228305480</td>\n",
       "      <td>1228305480</td>\n",
       "    </tr>\n",
       "  </tbody>\n",
       "</table>\n",
       "</div>"
      ],
      "text/plain": [
       "          truth  prediction  shifted_prediction   shifted_truth  \\\n",
       "995  1228313117  1228315766      11728124029610  11728124026961   \n",
       "996  1228312804  1228313117        366503875925    366503875612   \n",
       "997  1228311824  1228312804      11728124029610  11728124028630   \n",
       "998  1228308125  1228311824        183251937962    183251934263   \n",
       "999  1228305480  1228308125          1431655765      1431653120   \n",
       "\n",
       "              shift  shifted_residual  normal_residual  shifted_lzc  \\\n",
       "995  11726895713844              2811             3691           20   \n",
       "996    365275562808               329              761           23   \n",
       "997  11726895716806              3196             7668           20   \n",
       "998    182023626138             13981            62349           18   \n",
       "999       203347640              7765             2773           19   \n",
       "\n",
       "     normal_lzc  reconstruct  shifted_reconstruct  \n",
       "995          20   1228313117           1228313117  \n",
       "996          22   1228312804           1228312804  \n",
       "997          19   1228311824           1228311824  \n",
       "998          16   1228308125           1228308125  \n",
       "999          20   1228305480           1228305480  "
      ]
     },
     "execution_count": 14,
     "metadata": {},
     "output_type": "execute_result"
    }
   ],
   "source": [
    "df.tail()"
   ]
  },
  {
   "cell_type": "markdown",
   "metadata": {},
   "source": [
    "## Compare with previous error addition"
   ]
  },
  {
   "cell_type": "code",
   "execution_count": 15,
   "metadata": {},
   "outputs": [
    {
     "data": {
      "text/html": [
       "<div>\n",
       "<style scoped>\n",
       "    .dataframe tbody tr th:only-of-type {\n",
       "        vertical-align: middle;\n",
       "    }\n",
       "\n",
       "    .dataframe tbody tr th {\n",
       "        vertical-align: top;\n",
       "    }\n",
       "\n",
       "    .dataframe thead th {\n",
       "        text-align: right;\n",
       "    }\n",
       "</style>\n",
       "<table border=\"1\" class=\"dataframe\">\n",
       "  <thead>\n",
       "    <tr style=\"text-align: right;\">\n",
       "      <th></th>\n",
       "      <th>truth</th>\n",
       "      <th>prediction</th>\n",
       "    </tr>\n",
       "  </thead>\n",
       "  <tbody>\n",
       "    <tr>\n",
       "      <th>0</th>\n",
       "      <td>1228193487</td>\n",
       "      <td>0</td>\n",
       "    </tr>\n",
       "    <tr>\n",
       "      <th>1</th>\n",
       "      <td>1228175479</td>\n",
       "      <td>0</td>\n",
       "    </tr>\n",
       "    <tr>\n",
       "      <th>2</th>\n",
       "      <td>1228178323</td>\n",
       "      <td>1228175479</td>\n",
       "    </tr>\n",
       "    <tr>\n",
       "      <th>3</th>\n",
       "      <td>1228204314</td>\n",
       "      <td>1228178323</td>\n",
       "    </tr>\n",
       "    <tr>\n",
       "      <th>4</th>\n",
       "      <td>1228217687</td>\n",
       "      <td>1228204314</td>\n",
       "    </tr>\n",
       "  </tbody>\n",
       "</table>\n",
       "</div>"
      ],
      "text/plain": [
       "        truth  prediction\n",
       "0  1228193487           0\n",
       "1  1228175479           0\n",
       "2  1228178323  1228175479\n",
       "3  1228204314  1228178323\n",
       "4  1228217687  1228204314"
      ]
     },
     "execution_count": 15,
     "metadata": {},
     "output_type": "execute_result"
    }
   ],
   "source": [
    "df = df[[\"truth\",\"prediction\"]]\n",
    "df.head()"
   ]
  },
  {
   "cell_type": "code",
   "execution_count": 16,
   "metadata": {},
   "outputs": [],
   "source": [
    "df[\"prev_error_prediction\"] = 0"
   ]
  },
  {
   "cell_type": "code",
   "execution_count": 17,
   "metadata": {
    "scrolled": true
   },
   "outputs": [],
   "source": [
    "delta = 0\n",
    "beta, parts = 1,1\n",
    "for i in range(1, df[\"prev_error_prediction\"].size):\n",
    "    delta = df[\"truth\"][i-1] - df[\"prediction\"][i-1]\n",
    "    overshot = delta < 0\n",
    "    offset = np.abs(delta)\n",
    "    correction = (beta * offset) / parts\n",
    "    if not overshot:\n",
    "        df[\"prev_error_prediction\"][i] =  df[\"prediction\"][i] + correction\n",
    "    elif correction <= df[\"prediction\"][i]:\n",
    "        df[\"prev_error_prediction\"][i] = df[\"prediction\"][i] - correction\n",
    "    else:\n",
    "        df[\"prev_error_prediction\"][i] = 0\n",
    "        offset = 0"
   ]
  },
  {
   "cell_type": "code",
   "execution_count": 18,
   "metadata": {},
   "outputs": [],
   "source": [
    "df[\"lzc_normal\"] = lzcu(df['prediction'] ^ df['truth'], 32)\n",
    "df[\"lzc_prev_error\"] = lzcu(df['prev_error_prediction'] ^ df['truth'], 32)"
   ]
  },
  {
   "cell_type": "code",
   "execution_count": 19,
   "metadata": {},
   "outputs": [
    {
     "data": {
      "text/html": [
       "<div>\n",
       "<style scoped>\n",
       "    .dataframe tbody tr th:only-of-type {\n",
       "        vertical-align: middle;\n",
       "    }\n",
       "\n",
       "    .dataframe tbody tr th {\n",
       "        vertical-align: top;\n",
       "    }\n",
       "\n",
       "    .dataframe thead th {\n",
       "        text-align: right;\n",
       "    }\n",
       "</style>\n",
       "<table border=\"1\" class=\"dataframe\">\n",
       "  <thead>\n",
       "    <tr style=\"text-align: right;\">\n",
       "      <th></th>\n",
       "      <th>truth</th>\n",
       "      <th>prediction</th>\n",
       "      <th>prev_error_prediction</th>\n",
       "      <th>lzc_normal</th>\n",
       "      <th>lzc_prev_error</th>\n",
       "    </tr>\n",
       "  </thead>\n",
       "  <tbody>\n",
       "    <tr>\n",
       "      <th>0</th>\n",
       "      <td>1228193487</td>\n",
       "      <td>0</td>\n",
       "      <td>0</td>\n",
       "      <td>1</td>\n",
       "      <td>1</td>\n",
       "    </tr>\n",
       "    <tr>\n",
       "      <th>1</th>\n",
       "      <td>1228175479</td>\n",
       "      <td>0</td>\n",
       "      <td>1228193487</td>\n",
       "      <td>1</td>\n",
       "      <td>16</td>\n",
       "    </tr>\n",
       "    <tr>\n",
       "      <th>2</th>\n",
       "      <td>1228178323</td>\n",
       "      <td>1228175479</td>\n",
       "      <td>2456350958</td>\n",
       "      <td>16</td>\n",
       "      <td>0</td>\n",
       "    </tr>\n",
       "    <tr>\n",
       "      <th>3</th>\n",
       "      <td>1228204314</td>\n",
       "      <td>1228178323</td>\n",
       "      <td>1228181167</td>\n",
       "      <td>17</td>\n",
       "      <td>17</td>\n",
       "    </tr>\n",
       "    <tr>\n",
       "      <th>4</th>\n",
       "      <td>1228217687</td>\n",
       "      <td>1228204314</td>\n",
       "      <td>1228230305</td>\n",
       "      <td>15</td>\n",
       "      <td>17</td>\n",
       "    </tr>\n",
       "  </tbody>\n",
       "</table>\n",
       "</div>"
      ],
      "text/plain": [
       "        truth  prediction  prev_error_prediction lzc_normal lzc_prev_error\n",
       "0  1228193487           0                      0          1              1\n",
       "1  1228175479           0             1228193487          1             16\n",
       "2  1228178323  1228175479             2456350958         16              0\n",
       "3  1228204314  1228178323             1228181167         17             17\n",
       "4  1228217687  1228204314             1228230305         15             17"
      ]
     },
     "execution_count": 19,
     "metadata": {},
     "output_type": "execute_result"
    }
   ],
   "source": [
    "df.head()"
   ]
  },
  {
   "cell_type": "code",
   "execution_count": 20,
   "metadata": {},
   "outputs": [
    {
     "data": {
      "text/plain": [
       "(18.034, 17.946)"
      ]
     },
     "execution_count": 20,
     "metadata": {},
     "output_type": "execute_result"
    }
   ],
   "source": [
    "df[\"lzc_normal\"].mean(),df[\"lzc_prev_error\"].mean()"
   ]
  },
  {
   "cell_type": "code",
   "execution_count": 21,
   "metadata": {},
   "outputs": [
    {
     "data": {
      "text/plain": [
       "18.89"
      ]
     },
     "execution_count": 21,
     "metadata": {},
     "output_type": "execute_result"
    }
   ],
   "source": [
    "df[[\"lzc_normal\",\"lzc_prev_error\"]].max(axis=1).mean()"
   ]
  },
  {
   "cell_type": "markdown",
   "metadata": {},
   "source": [
    "# Improve upon the shifted reconstruction"
   ]
  },
  {
   "cell_type": "code",
   "execution_count": 22,
   "metadata": {},
   "outputs": [],
   "source": [
    "def shift_calculation(num, center, pred, domain=4, bits=32):\n",
    "    \"\"\"\n",
    "    Shifted residue calculation\n",
    "    \"\"\"\n",
    "    string_repr = np.binary_repr(pred,bits)\n",
    "    right,left = min(center + domain, bits), max(center - domain, 0)\n",
    "    last_bit = string_repr[left-1]\n",
    "    tmp = string_repr[:left]\n",
    "    if last_bit == \"0\":\n",
    "        val = \"10\"\n",
    "    else:\n",
    "        val = \"01\"\n",
    "    goal = val*((32-left)//2)\n",
    "    h = tmp+goal\n",
    "    if len(h) == 31:\n",
    "        h = h + h[-2]\n",
    "    shift = int(h,2) - pred\n",
    "    return shift"
   ]
  },
  {
   "cell_type": "code",
   "execution_count": 23,
   "metadata": {},
   "outputs": [],
   "source": [
    "truth = np.fromfile(\"test.npf\", \"int64\")\n",
    "def shifted_residual_calculation(truth, do, centeroffset):\n",
    "\n",
    "    df = pd.DataFrame({\"truth\":truth})\n",
    "    df[\"prediction\"] = 0\n",
    "\n",
    "    df[\"shifted_prediction\"] = 0\n",
    "    df[\"shifted_truth\"] = 0\n",
    "    df[\"shift\"] = 0\n",
    "\n",
    "    df[\"shifted_residual\"] = 0\n",
    "    df[\"normal_residual\"] = 0\n",
    "\n",
    "    df[\"shifted_lzc\"] = 0\n",
    "    df[\"normal_lzc\"] = 0\n",
    "\n",
    "    for i in range(2,df.truth.size):\n",
    "        df[\"prediction\"][i] = df[\"truth\"][i-1]\n",
    "        center = 32 - lzc(df[\"truth\"][i-2] ^ df[\"truth\"][i-1]) + centeroffset\n",
    "        df[\"shift\"][i] = shift_calculation(None, center,df[\"prediction\"][i],domain=do)\n",
    "        df[\"shifted_prediction\"][i] = df[\"prediction\"][i] + df[\"shift\"][i]\n",
    "        df[\"shifted_truth\"][i] = df[\"truth\"][i] + df[\"shift\"][i]\n",
    "        df[\"shifted_residual\"][i] = df[\"shifted_prediction\"][i] ^ df[\"shifted_truth\"][i]\n",
    "        df[\"normal_residual\"][i] = df[\"prediction\"][i] ^ df[\"truth\"][i]\n",
    "        df[\"shifted_lzc\"][i] = lzc(df[\"shifted_prediction\"][i] ^ df[\"shifted_truth\"][i])\n",
    "        df[\"normal_lzc\"][i] = lzc(df[\"prediction\"][i] ^ df[\"truth\"][i])\n",
    "    analysis = [ \n",
    "       (df[\"normal_lzc\"] <= df[\"shifted_lzc\"]).sum(), \n",
    "       (df[\"shifted_lzc\"]-df[\"normal_lzc\"]).sum(), \n",
    "       df[\"normal_lzc\"].sum(), \n",
    "       df[\"shifted_lzc\"].sum(),\n",
    "       df[\"normal_lzc\"].sum()/(df[\"normal_lzc\"].size*32) * 100,\n",
    "       df[\"shifted_lzc\"].sum()/(df[\"shifted_lzc\"].size*32) * 100\n",
    "    ]\n",
    "#     print(\"Potential:\", df[[\"normal_lzc\",\"shifted_lzc\"]].max(axis=1).sum())\n",
    "#     print(\n",
    "#         \"\"\"\n",
    "#         Shifted LZC >= Former LZC (of 1000): {0}\n",
    "#         Sum Shifted LZC vs. Sum Former LZC : {2} vs. {3} (diff: {1})\n",
    "#         % Shifted LZC vs. % Former LZC : {4}% vs. {5}%\n",
    "#         \"\"\".format(*analysis))\n",
    "    print(\"domain: {} centeroffset: {} [{}] diff:{}\".format(do, centeroffset, center - do, analysis[1]))"
   ]
  },
  {
   "cell_type": "code",
   "execution_count": 24,
   "metadata": {
    "scrolled": false
   },
   "outputs": [
    {
     "name": "stdout",
     "output_type": "stream",
     "text": [
      "domain: 1 centeroffset: -4 [11] diff:297\n",
      "domain: 1 centeroffset: -3 [12] diff:281\n",
      "domain: 1 centeroffset: -2 [13] diff:250\n",
      "domain: 1 centeroffset: -1 [14] diff:218\n",
      "domain: 1 centeroffset: 0 [15] diff:279\n",
      "domain: 1 centeroffset: 1 [16] diff:263\n",
      "domain: 1 centeroffset: 2 [17] diff:257\n",
      "domain: 1 centeroffset: 3 [18] diff:207\n",
      "domain: 1 centeroffset: 4 [19] diff:212\n",
      "domain: 2 centeroffset: -4 [10] diff:288\n",
      "domain: 2 centeroffset: -3 [11] diff:297\n",
      "domain: 2 centeroffset: -2 [12] diff:281\n",
      "domain: 2 centeroffset: -1 [13] diff:250\n",
      "domain: 2 centeroffset: 0 [14] diff:218\n",
      "domain: 2 centeroffset: 1 [15] diff:279\n",
      "domain: 2 centeroffset: 2 [16] diff:263\n",
      "domain: 2 centeroffset: 3 [17] diff:257\n",
      "domain: 2 centeroffset: 4 [18] diff:207\n",
      "domain: 3 centeroffset: -4 [9] diff:238\n",
      "domain: 3 centeroffset: -3 [10] diff:288\n",
      "domain: 3 centeroffset: -2 [11] diff:297\n",
      "domain: 3 centeroffset: -1 [12] diff:281\n",
      "domain: 3 centeroffset: 0 [13] diff:250\n",
      "domain: 3 centeroffset: 1 [14] diff:218\n",
      "domain: 3 centeroffset: 2 [15] diff:279\n",
      "domain: 3 centeroffset: 3 [16] diff:263\n",
      "domain: 3 centeroffset: 4 [17] diff:257\n",
      "domain: 4 centeroffset: -4 [8] diff:264\n",
      "domain: 4 centeroffset: -3 [9] diff:238\n",
      "domain: 4 centeroffset: -2 [10] diff:288\n",
      "domain: 4 centeroffset: -1 [11] diff:297\n",
      "domain: 4 centeroffset: 0 [12] diff:281\n",
      "domain: 4 centeroffset: 1 [13] diff:250\n",
      "domain: 4 centeroffset: 2 [14] diff:218\n",
      "domain: 4 centeroffset: 3 [15] diff:279\n",
      "domain: 4 centeroffset: 4 [16] diff:263\n",
      "domain: 5 centeroffset: -4 [7] diff:266\n",
      "domain: 5 centeroffset: -3 [8] diff:264\n",
      "domain: 5 centeroffset: -2 [9] diff:238\n",
      "domain: 5 centeroffset: -1 [10] diff:288\n",
      "domain: 5 centeroffset: 0 [11] diff:297\n",
      "domain: 5 centeroffset: 1 [12] diff:281\n",
      "domain: 5 centeroffset: 2 [13] diff:250\n",
      "domain: 5 centeroffset: 3 [14] diff:218\n",
      "domain: 5 centeroffset: 4 [15] diff:279\n",
      "domain: 6 centeroffset: -4 [6] diff:304\n",
      "domain: 6 centeroffset: -3 [7] diff:266\n",
      "domain: 6 centeroffset: -2 [8] diff:264\n",
      "domain: 6 centeroffset: -1 [9] diff:238\n",
      "domain: 6 centeroffset: 0 [10] diff:288\n",
      "domain: 6 centeroffset: 1 [11] diff:297\n",
      "domain: 6 centeroffset: 2 [12] diff:281\n",
      "domain: 6 centeroffset: 3 [13] diff:250\n",
      "domain: 6 centeroffset: 4 [14] diff:218\n",
      "domain: 7 centeroffset: -4 [5] diff:281\n",
      "domain: 7 centeroffset: -3 [6] diff:304\n",
      "domain: 7 centeroffset: -2 [7] diff:266\n",
      "domain: 7 centeroffset: -1 [8] diff:264\n",
      "domain: 7 centeroffset: 0 [9] diff:238\n",
      "domain: 7 centeroffset: 1 [10] diff:288\n",
      "domain: 7 centeroffset: 2 [11] diff:297\n",
      "domain: 7 centeroffset: 3 [12] diff:281\n",
      "domain: 7 centeroffset: 4 [13] diff:250\n",
      "domain: 8 centeroffset: -4 [4] diff:273\n",
      "domain: 8 centeroffset: -3 [5] diff:281\n",
      "domain: 8 centeroffset: -2 [6] diff:304\n",
      "domain: 8 centeroffset: -1 [7] diff:266\n",
      "domain: 8 centeroffset: 0 [8] diff:264\n",
      "domain: 8 centeroffset: 1 [9] diff:238\n",
      "domain: 8 centeroffset: 2 [10] diff:288\n",
      "domain: 8 centeroffset: 3 [11] diff:297\n",
      "domain: 8 centeroffset: 4 [12] diff:281\n",
      "domain: 9 centeroffset: -4 [3] diff:239\n",
      "domain: 9 centeroffset: -3 [4] diff:273\n",
      "domain: 9 centeroffset: -2 [5] diff:281\n",
      "domain: 9 centeroffset: -1 [6] diff:304\n",
      "domain: 9 centeroffset: 0 [7] diff:266\n",
      "domain: 9 centeroffset: 1 [8] diff:264\n",
      "domain: 9 centeroffset: 2 [9] diff:238\n",
      "domain: 9 centeroffset: 3 [10] diff:288\n",
      "domain: 9 centeroffset: 4 [11] diff:297\n",
      "domain: 10 centeroffset: -4 [2] diff:266\n",
      "domain: 10 centeroffset: -3 [3] diff:239\n",
      "domain: 10 centeroffset: -2 [4] diff:273\n",
      "domain: 10 centeroffset: -1 [5] diff:281\n",
      "domain: 10 centeroffset: 0 [6] diff:304\n",
      "domain: 10 centeroffset: 1 [7] diff:266\n",
      "domain: 10 centeroffset: 2 [8] diff:264\n",
      "domain: 10 centeroffset: 3 [9] diff:238\n",
      "domain: 10 centeroffset: 4 [10] diff:288\n"
     ]
    }
   ],
   "source": [
    "for do in range(1,11):\n",
    "    for centeroffset in range(-4,5):\n",
    "        shifted_residual_calculation(truth, do=do, centeroffset=centeroffset)"
   ]
  },
  {
   "cell_type": "markdown",
   "metadata": {},
   "source": [
    "Until now the shift value was dependent on the previous LZC. To better analyse the effects this will be changed to a set center"
   ]
  },
  {
   "cell_type": "markdown",
   "metadata": {},
   "source": [
    "# Find out were the optimal shift position is\n",
    "## One shift position for all"
   ]
  },
  {
   "cell_type": "code",
   "execution_count": 25,
   "metadata": {},
   "outputs": [],
   "source": [
    "truth = np.fromfile(\"test.npf\", \"int64\")\n",
    "def shift_calculation_by_pos(prev_truth, prev_prev_truth, prediction, pos, bits=32):\n",
    "    \"\"\"\n",
    "    Shifted residue calculation\n",
    "    \"\"\"\n",
    "    string_repr = np.binary_repr(prediction,bits)\n",
    "    last_bit = string_repr[pos-1]\n",
    "    tmp = string_repr[:pos]\n",
    "    if last_bit == \"0\":\n",
    "        val = \"10\"\n",
    "    else:\n",
    "        val = \"01\"\n",
    "    goal = val*((32-pos)//2)\n",
    "    h = tmp+goal\n",
    "    if len(h) == 31:\n",
    "        h = h + h[-2]\n",
    "    shift = int(h,2) - prediction\n",
    "    return shift"
   ]
  },
  {
   "cell_type": "code",
   "execution_count": 26,
   "metadata": {},
   "outputs": [],
   "source": [
    "def shifted_residual_calculation_pos(truth, shift_calculation_method, **kwargs):\n",
    "\n",
    "    df = pd.DataFrame({\"truth\":truth})\n",
    "    df[\"prediction\"] = 0\n",
    "\n",
    "    df[\"shifted_prediction\"] = 0\n",
    "    df[\"shifted_truth\"] = 0\n",
    "    df[\"shift\"] = 0\n",
    "\n",
    "    df[\"shifted_residual\"] = 0\n",
    "    df[\"normal_residual\"] = 0\n",
    "\n",
    "    df[\"shifted_lzc\"] = 0\n",
    "    df[\"normal_lzc\"] = 0\n",
    "\n",
    "    for i in range(2,df.truth.size):\n",
    "        df[\"prediction\"][i] = df[\"truth\"][i-1]\n",
    "        df[\"shift\"][i] = shift_calculation_method(df[\"truth\"][i-1], df[\"truth\"][i-2], df[\"prediction\"][i], **kwargs)\n",
    "        df[\"shifted_prediction\"][i] = df[\"prediction\"][i] + df[\"shift\"][i]\n",
    "        df[\"shifted_truth\"][i] = df[\"truth\"][i] + df[\"shift\"][i]\n",
    "        df[\"shifted_residual\"][i] = df[\"shifted_prediction\"][i] ^ df[\"shifted_truth\"][i]\n",
    "        df[\"normal_residual\"][i] = df[\"prediction\"][i] ^ df[\"truth\"][i]\n",
    "        df[\"shifted_lzc\"][i] = lzc(df[\"shifted_prediction\"][i] ^ df[\"shifted_truth\"][i])\n",
    "        df[\"normal_lzc\"][i] = lzc(df[\"prediction\"][i] ^ df[\"truth\"][i])\n",
    "    diff = (df[\"shifted_lzc\"]-df[\"normal_lzc\"]).sum()\n",
    "    print(\"pos {}, diff {}\".format(pos, diff))\n",
    "    return df"
   ]
  },
  {
   "cell_type": "code",
   "execution_count": 27,
   "metadata": {
    "scrolled": true
   },
   "outputs": [
    {
     "name": "stdout",
     "output_type": "stream",
     "text": [
      "pos 1, diff 254\n",
      "pos 2, diff 254\n",
      "pos 3, diff 254\n",
      "pos 4, diff 296\n",
      "pos 5, diff 296\n",
      "pos 6, diff 296\n",
      "pos 7, diff 254\n",
      "pos 8, diff 254\n",
      "pos 9, diff 254\n",
      "pos 10, diff 296\n",
      "pos 11, diff 296\n",
      "pos 12, diff 254\n",
      "pos 13, diff 254\n",
      "pos 14, diff 252\n",
      "pos 15, diff 277\n",
      "pos 16, diff 242\n",
      "pos 17, diff 254\n",
      "pos 18, diff 180\n",
      "pos 19, diff 124\n",
      "pos 20, diff 33\n",
      "pos 21, diff 24\n",
      "pos 22, diff 26\n",
      "pos 23, diff 5\n",
      "pos 24, diff -3\n",
      "pos 25, diff 6\n",
      "pos 26, diff 4\n",
      "pos 27, diff 3\n",
      "pos 28, diff -2\n",
      "pos 29, diff -2\n"
     ]
    }
   ],
   "source": [
    "for pos in range(1,30):\n",
    "    shifted_residual_calculation_pos(truth, shift_calculation_by_pos, pos=pos)"
   ]
  },
  {
   "cell_type": "code",
   "execution_count": 28,
   "metadata": {},
   "outputs": [
    {
     "name": "stdout",
     "output_type": "stream",
     "text": [
      "010010010011011010 10101100100110 20\n",
      "010010010011011010 01101011100000\n",
      "  1     1100000111101010101000101111  1010101010101010100010100001111 19 18\n",
      "  2     1100000111101010101000101111  1010101010101010100010100001111 19 18\n",
      "  3     1100000111101010101000101111  1010101010101010100010100001111 19 18\n",
      "  4        1011100111111111110000100  1001010101010101001101001100100 18 18\n",
      "  5        1011100111111111110000100  1001010101010101001101001100100 18 18\n",
      "  6        1011100111111111110000100  1001010101010101001101001100100 18 18\n",
      "  7            111101010101000101111  1001001010101010100010100001111 19 18\n",
      "  8            111101010101000101111  1001001010101010100010100001111 19 18\n",
      "  9            111101010101000101111  1001001010101010100010100001111 19 18\n",
      " 10            -11000000000001111100  1001001001010101001101001100100 18 18\n",
      " 11            -11000000000001111100  1001001001010101001101001100100 18 18\n",
      " 12               -10101010111010001  1001001001101010100010100001111 19 18\n",
      " 13               -10101010111010001  1001001001101010100010100001111 19 18\n",
      " 14               -10101010111010001  1001001001101010100010100001111 19 18\n",
      " 15                         -1111100  1001001001101101001101001100100 18 18\n",
      " 16                         -1111100  1001001001101101001101001100100 18 18\n",
      " 17                         -1111100  1001001001101101001101001100100 18 18\n",
      " 18                         -1111100  1001001001101101001101001100100 18 18\n",
      " 19                         -1111100  1001001001101101001101001100100 18 18\n",
      " 20                         -1111100  1001001001101101001101001100100 18 18\n",
      " 21                         -1111100  1001001001101101001101001100100 18 18\n",
      " 22                         -1111100  1001001001101101001101001100100 18 18\n",
      " 23                         -1111100  1001001001101101001101001100100 18 18\n",
      " 24                           101111  1001001001101101001101100001111 18 18\n",
      " 25                           101111  1001001001101101001101100001111 18 18\n",
      " 26                              100  1001001001101101001101011100100 18 18\n",
      " 27                              100  1001001001101101001101011100100 18 18\n",
      " 28                              100  1001001001101101001101011100100 18 18\n",
      " 29                               -1  1001001001101101001101011011111 18 18\n",
      " 30                               -1  1001001001101101001101011011111 18 18\n",
      " 31                                1  1001001001101101001101011100001 18 18\n",
      " 32                                0  1001001001101101001101011100000 18 18\n"
     ]
    }
   ],
   "source": [
    "maximums = []\n",
    "before = []\n",
    "pos = 977\n",
    "pred = truth[pos]; spred = np.binary_repr(pred,32)\n",
    "tru = truth[pos+1]; stru = np.binary_repr(tru,32)\n",
    "before_lcount = lzc(pred^tru)\n",
    "print(spred[:before_lcount], spred[before_lcount:], lzc(truth[pos-1] ^ pred))\n",
    "print(stru[:before_lcount], stru[before_lcount:])\n",
    "lzcounts = [lzc((pred + shift_calculation_by_pos(None,None,pred, k))^( tru + shift_calculation_by_pos(None,None,pred, k))) for k in range(33)]\n",
    "for k in range(1,33):\n",
    "    shift = shift_calculation_by_pos(None,None,pred, k)\n",
    "    lcount = lzc((pred + shift)^( tru + shift))\n",
    "    print(\"{:>3} {:>32b} {:>32b} {} {}\".format(k, shift, shift+tru, lcount, before_lcount))\n",
    "maximums.append(max(lzcounts))\n",
    "before.append(before_lcount)"
   ]
  },
  {
   "cell_type": "code",
   "execution_count": 29,
   "metadata": {},
   "outputs": [],
   "source": [
    "maximums = []\n",
    "before = []\n",
    "for pos in range(999):\n",
    "    pred = truth[pos]; spred = np.binary_repr(pred,32)\n",
    "    tru = truth[pos+1]; stru = np.binary_repr(tru,32)\n",
    "    before_lcount = lzc(pred^tru)\n",
    "#     print(spred[:before_lcount], spred[before_lcount:])\n",
    "#     print(stru[:before_lcount], stru[before_lcount:])\n",
    "    lzcounts = [lzc((pred + shift_calculation_by_pos(None,None,pred, k))^( tru + shift_calculation_by_pos(None,None,pred, k))) for k in range(33)]\n",
    "#     for k in range(1,33):\n",
    "#         shift = shift_calculation_by_pos(None,None,pred, k)\n",
    "#         lcount = lzc((pred + shift)^( tru + shift))\n",
    "#         print(\"{:>3} {:>32b} {:>32b} {} {}\".format(k, shift, shift+tru, lcount, before_lcount))\n",
    "    maximums.append(max(lzcounts))\n",
    "    before.append(before_lcount)"
   ]
  },
  {
   "cell_type": "code",
   "execution_count": 30,
   "metadata": {},
   "outputs": [
    {
     "data": {
      "text/plain": [
       "484"
      ]
     },
     "execution_count": 30,
     "metadata": {},
     "output_type": "execute_result"
    }
   ],
   "source": [
    "(np.array(maximums)>np.array(before)).sum()"
   ]
  },
  {
   "cell_type": "code",
   "execution_count": 31,
   "metadata": {},
   "outputs": [
    {
     "data": {
      "text/plain": [
       "(0.59153125, 0.564)"
      ]
     },
     "execution_count": 31,
     "metadata": {},
     "output_type": "execute_result"
    }
   ],
   "source": [
    "np.array(maximums).sum()/32000,np.array(before).sum()/32000"
   ]
  },
  {
   "cell_type": "code",
   "execution_count": 32,
   "metadata": {},
   "outputs": [
    {
     "data": {
      "text/plain": [
       "'1001001001101100111111010011101'"
      ]
     },
     "execution_count": 32,
     "metadata": {},
     "output_type": "execute_result"
    }
   ],
   "source": [
    "np.binary_repr(truth[pos])"
   ]
  },
  {
   "cell_type": "code",
   "execution_count": 33,
   "metadata": {},
   "outputs": [
    {
     "data": {
      "text/plain": [
       "'1001001001101100111010001001000'"
      ]
     },
     "execution_count": 33,
     "metadata": {},
     "output_type": "execute_result"
    }
   ],
   "source": [
    "np.binary_repr(truth[pos+1])"
   ]
  },
  {
   "cell_type": "code",
   "execution_count": 34,
   "metadata": {},
   "outputs": [
    {
     "data": {
      "text/plain": [
       "array([ True,  True, False,  True,  True, False, False,  True,  True,\n",
       "       False, False, False, False,  True,  True, False, False, False,\n",
       "       False,  True,  True,  True,  True, False, False, False,  True,\n",
       "        True,  True, False, False,  True, False,  True,  True,  True,\n",
       "       False,  True, False,  True, False,  True, False,  True,  True,\n",
       "        True, False,  True, False, False,  True, False, False, False,\n",
       "        True, False,  True,  True, False,  True,  True,  True, False,\n",
       "       False,  True,  True, False,  True, False, False, False, False,\n",
       "       False, False,  True, False,  True, False, False,  True,  True,\n",
       "        True,  True, False,  True, False, False, False,  True,  True,\n",
       "        True,  True, False, False, False,  True, False,  True, False,\n",
       "        True, False,  True,  True, False, False,  True, False,  True,\n",
       "       False,  True,  True, False, False,  True, False,  True, False,\n",
       "       False,  True, False,  True,  True, False,  True,  True, False,\n",
       "        True,  True, False, False, False, False,  True,  True, False,\n",
       "        True, False,  True,  True, False,  True, False,  True, False,\n",
       "        True, False, False,  True, False, False,  True,  True,  True,\n",
       "       False, False,  True,  True, False,  True,  True,  True, False,\n",
       "       False, False,  True, False,  True, False,  True,  True,  True,\n",
       "       False,  True,  True,  True,  True, False, False, False,  True,\n",
       "       False, False, False, False, False, False, False,  True,  True,\n",
       "       False, False,  True,  True, False, False,  True,  True, False,\n",
       "        True,  True,  True, False, False,  True, False,  True,  True,\n",
       "       False,  True, False, False, False,  True, False,  True, False,\n",
       "       False,  True, False,  True,  True,  True,  True,  True, False,\n",
       "        True, False, False,  True, False,  True,  True,  True, False,\n",
       "       False,  True, False,  True,  True,  True,  True, False, False,\n",
       "       False,  True, False,  True,  True, False,  True, False, False,\n",
       "       False,  True, False,  True, False,  True, False,  True, False,\n",
       "        True,  True, False,  True, False,  True, False, False, False,\n",
       "        True, False, False, False, False,  True, False, False,  True,\n",
       "        True, False, False,  True,  True, False, False, False, False,\n",
       "        True, False, False,  True, False, False, False, False,  True,\n",
       "       False,  True, False, False,  True, False, False, False,  True,\n",
       "        True,  True,  True, False, False,  True,  True, False, False,\n",
       "        True, False,  True,  True,  True, False,  True, False, False,\n",
       "       False,  True, False, False,  True, False, False,  True, False,\n",
       "       False,  True, False,  True,  True, False, False, False,  True,\n",
       "        True,  True, False, False, False, False,  True,  True, False,\n",
       "       False, False,  True,  True, False, False, False,  True, False,\n",
       "       False, False, False, False, False, False,  True, False, False,\n",
       "       False,  True,  True,  True, False,  True, False,  True, False,\n",
       "       False, False,  True,  True, False, False,  True,  True, False,\n",
       "        True, False, False,  True,  True,  True, False,  True,  True,\n",
       "        True,  True,  True, False,  True,  True,  True, False, False,\n",
       "        True,  True, False, False,  True,  True,  True,  True,  True,\n",
       "        True,  True,  True, False, False,  True, False,  True, False,\n",
       "        True,  True,  True, False, False, False,  True, False,  True,\n",
       "       False,  True, False, False, False, False,  True,  True, False,\n",
       "       False,  True, False,  True, False,  True,  True, False, False,\n",
       "       False,  True,  True,  True,  True,  True,  True,  True, False,\n",
       "       False, False, False,  True, False, False,  True, False, False,\n",
       "        True, False,  True,  True,  True, False,  True,  True, False,\n",
       "        True, False,  True,  True, False, False, False, False,  True,\n",
       "        True, False, False,  True,  True,  True, False,  True,  True,\n",
       "        True,  True, False, False, False, False, False,  True, False,\n",
       "       False,  True,  True, False,  True, False,  True, False,  True,\n",
       "       False,  True, False, False, False, False, False,  True, False,\n",
       "        True, False,  True, False,  True, False, False,  True, False,\n",
       "       False,  True, False,  True, False, False,  True, False,  True,\n",
       "        True,  True, False,  True,  True, False, False,  True,  True,\n",
       "       False,  True, False, False, False, False, False, False,  True,\n",
       "       False,  True, False,  True,  True, False,  True, False, False,\n",
       "       False,  True, False,  True, False,  True, False,  True, False,\n",
       "        True, False, False, False,  True, False,  True, False,  True,\n",
       "        True, False,  True,  True,  True, False,  True,  True, False,\n",
       "       False, False,  True, False, False,  True, False,  True, False,\n",
       "        True,  True,  True,  True, False, False,  True, False,  True,\n",
       "        True,  True,  True, False, False, False, False,  True, False,\n",
       "       False,  True, False, False, False,  True,  True,  True,  True,\n",
       "        True,  True, False, False, False,  True, False,  True,  True,\n",
       "       False,  True, False, False,  True, False, False, False, False,\n",
       "        True, False,  True,  True, False, False,  True,  True,  True,\n",
       "       False, False,  True,  True,  True, False, False, False,  True,\n",
       "       False, False,  True, False, False,  True, False, False,  True,\n",
       "        True,  True,  True, False, False,  True,  True, False, False,\n",
       "       False, False,  True, False, False, False, False, False, False,\n",
       "        True, False,  True, False,  True, False, False, False, False,\n",
       "        True,  True, False, False,  True,  True, False,  True, False,\n",
       "        True, False, False,  True, False,  True,  True, False,  True,\n",
       "       False,  True, False, False, False,  True,  True, False, False,\n",
       "       False,  True, False,  True, False, False,  True, False,  True,\n",
       "       False,  True, False,  True,  True, False, False,  True, False,\n",
       "       False, False,  True, False,  True, False,  True, False,  True,\n",
       "       False, False,  True, False, False, False,  True, False,  True,\n",
       "        True, False,  True, False, False,  True,  True,  True, False,\n",
       "       False, False, False, False, False,  True,  True, False, False,\n",
       "        True,  True,  True,  True, False, False, False, False, False,\n",
       "        True,  True, False,  True, False,  True, False, False,  True,\n",
       "       False, False,  True,  True, False, False,  True,  True, False,\n",
       "       False,  True,  True,  True, False,  True,  True,  True,  True,\n",
       "       False, False, False, False,  True,  True, False, False,  True,\n",
       "       False, False,  True, False,  True,  True, False,  True,  True,\n",
       "        True,  True, False, False,  True, False, False, False,  True,\n",
       "        True,  True, False,  True,  True, False,  True,  True,  True,\n",
       "       False,  True, False, False, False,  True, False,  True, False,\n",
       "       False,  True,  True,  True,  True,  True,  True,  True,  True,\n",
       "       False,  True,  True,  True, False,  True, False,  True,  True,\n",
       "        True,  True,  True, False, False, False, False, False, False,\n",
       "       False, False,  True, False,  True, False, False, False, False,\n",
       "       False, False,  True, False, False,  True,  True, False,  True,\n",
       "       False,  True,  True, False,  True, False,  True, False, False,\n",
       "       False, False, False, False,  True, False, False,  True,  True,\n",
       "        True,  True, False,  True,  True, False,  True,  True, False,\n",
       "        True,  True,  True, False,  True, False,  True, False, False,\n",
       "       False,  True, False,  True,  True, False,  True,  True,  True,\n",
       "       False,  True,  True, False,  True, False, False,  True,  True,\n",
       "       False,  True,  True,  True, False,  True, False,  True,  True,\n",
       "        True,  True,  True,  True,  True,  True, False, False,  True,\n",
       "        True, False, False,  True,  True,  True, False, False,  True,\n",
       "       False,  True, False, False, False,  True,  True,  True, False])"
      ]
     },
     "execution_count": 34,
     "metadata": {},
     "output_type": "execute_result"
    }
   ],
   "source": [
    "(np.array(maximums)>np.array(before))"
   ]
  },
  {
   "cell_type": "code",
   "execution_count": 35,
   "metadata": {},
   "outputs": [
    {
     "data": {
      "text/plain": [
       "(1431655765, 2863311530)"
      ]
     },
     "execution_count": 35,
     "metadata": {},
     "output_type": "execute_result"
    }
   ],
   "source": [
    "zero_one = int(\"01\"*16,2)\n",
    "one_zero = int(\"10\"*16,2)\n",
    "int(\"01\"*16,2), int(\"10\"*16,2)"
   ]
  },
  {
   "cell_type": "code",
   "execution_count": 36,
   "metadata": {},
   "outputs": [
    {
     "data": {
      "text/plain": [
       "'01001001001100000000000000000000'"
      ]
     },
     "execution_count": 36,
     "metadata": {},
     "output_type": "execute_result"
    }
   ],
   "source": [
    "cut = 20\n",
    "np.binary_repr((truth[pos+1] >> cut) << cut,32)"
   ]
  },
  {
   "cell_type": "code",
   "execution_count": 37,
   "metadata": {},
   "outputs": [
    {
     "data": {
      "text/plain": [
       "1"
      ]
     },
     "execution_count": 37,
     "metadata": {},
     "output_type": "execute_result"
    }
   ],
   "source": [
    "last_value = (truth[pos+1] >> cut) & 1\n",
    "last_value"
   ]
  },
  {
   "cell_type": "code",
   "execution_count": 38,
   "metadata": {},
   "outputs": [],
   "source": [
    "def get_shift_with_overflow(num, cut):\n",
    "#     assert bits in (32,64), \"Unknown bits {}\".format(bits)\n",
    "    zero_one = 1431655765 #if bits==32 else 6148914691236517205\n",
    "    one_zero = 2863311530 #if bits==32 else 12297829382473034410\n",
    "    base = (num >> cut) << cut\n",
    "    last_value = (num >> cut) & 1\n",
    "    if last_value == 1:\n",
    "        delta = zero_one >> (32 - cut)\n",
    "    #     subtract = False\n",
    "    #     goal = base + delta\n",
    "    #     shift = num - goal\n",
    "    else:\n",
    "        delta = one_zero >> (32 - cut)\n",
    "    #     subtract = True\n",
    "    #     goal = base + delta\n",
    "    #     shift = goal - num\n",
    "    shift = base + delta - num\n",
    "    return shift"
   ]
  },
  {
   "cell_type": "code",
   "execution_count": 39,
   "metadata": {},
   "outputs": [],
   "source": [
    "def get_shift_without_overflow(num, cut, bits = 32):\n",
    "    \"\"\"\n",
    "    Get shift value within the u32/u64 value range.\n",
    "    \"\"\"\n",
    "    assert bits in (32,64), \"Unknown bits {}\".format(bits)\n",
    "    zero_one = 1431655765 if bits==32 else 6148914691236517205\n",
    "    one_zero = 2863311530 if bits==32 else 12297829382473034410\n",
    "    base = (num >> cut) << cut\n",
    "    last_value = (num >> cut) & 1\n",
    "    if last_value == 1:\n",
    "        delta = zero_one >> (bits - cut)\n",
    "        subtract = False\n",
    "        goal = base + delta\n",
    "        shift = num - goal\n",
    "    else:\n",
    "        delta = one_zero >> (bits - cut)\n",
    "        subtract = True\n",
    "        goal = base + delta\n",
    "        shift = goal - num\n",
    "    return subtract, shift"
   ]
  },
  {
   "cell_type": "code",
   "execution_count": 40,
   "metadata": {},
   "outputs": [],
   "source": [
    "output = []\n",
    "for i in range(truth.size):\n",
    "    o  = get_shift_with_overflow(truth[i],20) + truth[i]\n",
    "    a,b = get_shift_without_overflow(truth[i],20) \n",
    "    wo = truth[i]+b if a else truth[i]-b\n",
    "    output.append(o == wo)"
   ]
  },
  {
   "cell_type": "code",
   "execution_count": 41,
   "metadata": {},
   "outputs": [],
   "source": [
    "def shift_value(num, sign, delta):\n",
    "    return num+delta if sign else num-delta"
   ]
  },
  {
   "cell_type": "code",
   "execution_count": 42,
   "metadata": {},
   "outputs": [],
   "source": [
    "pos = 48\n",
    "prediction = truth[pos]\n",
    "tru = truth[pos+1]\n",
    "\n",
    "shift = get_shift_without_overflow(prediction, 20)\n",
    "shifted_prediction = shift_value(prediction, *shift)\n",
    "shifted_truth = shift_value(tru, *shift)"
   ]
  },
  {
   "cell_type": "code",
   "execution_count": 43,
   "metadata": {},
   "outputs": [
    {
     "data": {
      "text/plain": [
       "21"
      ]
     },
     "execution_count": 43,
     "metadata": {},
     "output_type": "execute_result"
    }
   ],
   "source": [
    "lzc(shifted_prediction ^ shifted_truth)"
   ]
  },
  {
   "cell_type": "code",
   "execution_count": 44,
   "metadata": {},
   "outputs": [
    {
     "data": {
      "text/plain": [
       "22"
      ]
     },
     "execution_count": 44,
     "metadata": {},
     "output_type": "execute_result"
    }
   ],
   "source": [
    "lzc(truth[pos] ^ truth[pos+1])"
   ]
  },
  {
   "cell_type": "markdown",
   "metadata": {},
   "source": [
    "# New start"
   ]
  },
  {
   "cell_type": "code",
   "execution_count": 61,
   "metadata": {},
   "outputs": [],
   "source": [
    "truth = np.fromfile(\"test.npf\", \"int64\")\n",
    "def shift_calculation_by_pos(prev_truth, prev_prev_truth, prediction, pos, bits=32):\n",
    "    \"\"\"\n",
    "    Shifted residue calculation\n",
    "    \"\"\"\n",
    "    string_repr = np.binary_repr(prediction,bits)\n",
    "    last_bit = string_repr[pos-1]\n",
    "    tmp = string_repr[:pos]\n",
    "    if last_bit == \"0\":\n",
    "        val = \"10\"\n",
    "    else:\n",
    "        val = \"01\"\n",
    "    goal = val*((32-pos)//2)\n",
    "    h = tmp+goal\n",
    "    if len(h) == 31:\n",
    "        h = h + h[-2]\n",
    "    shift = int(h,2) - prediction\n",
    "    return shift"
   ]
  },
  {
   "cell_type": "code",
   "execution_count": 62,
   "metadata": {},
   "outputs": [],
   "source": [
    "truth = np.fromfile(\"test.npf\", \"int64\")\n",
    "def shift_calculation_to_0(prev_truth, prev_prev_truth, prediction, pos, bits=32):\n",
    "    \"\"\"\n",
    "    Shifted residue calculation\n",
    "    \"\"\"\n",
    "    return -prediction"
   ]
  },
  {
   "cell_type": "code",
   "execution_count": 63,
   "metadata": {},
   "outputs": [],
   "source": [
    "truth = np.fromfile(\"test.npf\", \"int64\")\n",
    "def shift_calculation_to_1(prev_truth, prev_prev_truth, prediction, pos, bits=32):\n",
    "    \"\"\"\n",
    "    Shifted residue calculation\n",
    "    \"\"\"\n",
    "    return int(\"1\"*32,2) - prediction"
   ]
  },
  {
   "cell_type": "code",
   "execution_count": 98,
   "metadata": {},
   "outputs": [],
   "source": [
    "def shift_calculation_compress(prediction, truth, bits=32):\n",
    "    real_residual = prediction ^ truth\n",
    "    zero_residual = np.array(real_residual, dtype='uint32') + 0\n",
    "    once_residual = np.array(np.invert(real_residual), dtype='uint32') + 0\n",
    "    if zero_residual ^ prediction > prediction & once_residual ^ prediction > prediction:\n",
    "        return once_residual    \n",
    "    elif zero_residual ^ prediction < prediction & once_residual ^ prediction < prediction:\n",
    "        return zero_residual\n",
    "    return shift_calculation_by_pos(None, None, prediction, 20)\n",
    "#     print(real_residual, zero_residual, once_residual)"
   ]
  },
  {
   "cell_type": "code",
   "execution_count": 97,
   "metadata": {},
   "outputs": [
    {
     "data": {
      "text/plain": [
       "2706"
      ]
     },
     "execution_count": 97,
     "metadata": {},
     "output_type": "execute_result"
    }
   ],
   "source": [
    "def shift_calculation_decompress(prediction, residual, bit=32):\n",
    "    inverse_residual = np.array(np.invert(residual), dtype='uint32') + 0\n",
    "    if prediction ^ residual > prediction & prediction ^ inverse_residual > prediction:\n",
    "        return 4294967281\n",
    "    ## Hier sind wir stehen geblieben"
   ]
  },
  {
   "cell_type": "code",
   "execution_count": 99,
   "metadata": {},
   "outputs": [
    {
     "data": {
      "text/plain": [
       "'00000000000000000000000000011110'"
      ]
     },
     "execution_count": 99,
     "metadata": {},
     "output_type": "execute_result"
    }
   ],
   "source": [
    "np.binary_repr(30, 32)"
   ]
  },
  {
   "cell_type": "code",
   "execution_count": 85,
   "metadata": {},
   "outputs": [
    {
     "data": {
      "text/plain": [
       "4294967281"
      ]
     },
     "execution_count": 85,
     "metadata": {},
     "output_type": "execute_result"
    }
   ],
   "source": []
  },
  {
   "cell_type": "code",
   "execution_count": null,
   "metadata": {},
   "outputs": [],
   "source": []
  }
 ],
 "metadata": {
  "kernelspec": {
   "display_name": "Python 3",
   "language": "python",
   "name": "python3"
  },
  "language_info": {
   "codemirror_mode": {
    "name": "ipython",
    "version": 3
   },
   "file_extension": ".py",
   "mimetype": "text/x-python",
   "name": "python",
   "nbconvert_exporter": "python",
   "pygments_lexer": "ipython3",
   "version": "3.6.6"
  }
 },
 "nbformat": 4,
 "nbformat_minor": 2
}
