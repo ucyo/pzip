{
 "cells": [
  {
   "cell_type": "code",
   "execution_count": null,
   "metadata": {},
   "outputs": [],
   "source": [
    "from glob import glob\n",
    "import pandas as pd\n",
    "from io import StringIO\n",
    "import numpy as np\n",
    "from collections import namedtuple\n",
    "from matplotlib import pyplot as plt\n",
    "%matplotlib inline"
   ]
  },
  {
   "cell_type": "code",
   "execution_count": null,
   "metadata": {},
   "outputs": [],
   "source": [
    "a = int(\"11010010\",2)\n",
    "b = int(\"11010101\",2)\n",
    "diff = b - a\n",
    "\n",
    "bin(a - diff), bin(b + 2*diff)\n",
    "\n",
    "a = int(\"11010010\",2) - int(\"1101\",2)\n",
    "b = int(\"11010101\",2) - int(\"1101\",2)\n",
    "diff = b - a\n",
    "\n",
    "bin(a - diff), bin(b + 2*diff)\n",
    "\n",
    "bin(int(\"11010101\",2) - \n",
    "int(\"10101010\",2))\n",
    "\n",
    "a = int(\"11010010\",2) - int(\"101011\",2)\n",
    "b = int(\"11010101\",2) - int(\"101011\",2)\n",
    "diff = b - a\n",
    "\n",
    "bin(a - diff), bin(b + 2*diff)"
   ]
  },
  {
   "cell_type": "code",
   "execution_count": null,
   "metadata": {},
   "outputs": [],
   "source": [
    "num =  int(\"11010010\",2)\n",
    "pred = int(\"11010101\",2)\n",
    "center = 4\n",
    "# shift_calculation(num, 32 - center, pred, domain=4)"
   ]
  },
  {
   "cell_type": "markdown",
   "metadata": {},
   "source": [
    "### Shift and LZC calculation"
   ]
  },
  {
   "cell_type": "code",
   "execution_count": null,
   "metadata": {},
   "outputs": [],
   "source": [
    "def shift_calculation(num, center, pred, domain=4, bits=32):\n",
    "    string_repr = np.binary_repr(pred,bits)\n",
    "    right,left = min(center + domain, bits), max(center - domain, 0)\n",
    "    last_bit = string_repr[left-1]\n",
    "    if last_bit == \"0\":\n",
    "        val = \"10\"\n",
    "    else:\n",
    "        val = \"01\"\n",
    "    goal = val*(domain+(32-right))\n",
    "    tmp = string_repr[:left]\n",
    "    h = tmp+goal\n",
    "    shift = int(goal,2) - pred\n",
    "    return shift"
   ]
  },
  {
   "cell_type": "code",
   "execution_count": null,
   "metadata": {},
   "outputs": [],
   "source": [
    "def lzc(val, bits=32):\n",
    "    \"\"\"Count leading zeroes.\"\"\"\n",
    "    cnt = 0\n",
    "    for i in range(0, bits):\n",
    "        if val & (1 << (bits - 1 - i)) != 0:\n",
    "            break\n",
    "        cnt += 1\n",
    "    return cnt\n",
    "lzcu = np.frompyfunc(lzc, 2, 1)"
   ]
  },
  {
   "cell_type": "markdown",
   "metadata": {},
   "source": [
    "# Test\n",
    "## Read data and prepare dataframe"
   ]
  },
  {
   "cell_type": "code",
   "execution_count": null,
   "metadata": {},
   "outputs": [],
   "source": [
    "truth = np.fromfile(\"test.npf\", \"int64\")"
   ]
  },
  {
   "cell_type": "code",
   "execution_count": null,
   "metadata": {},
   "outputs": [],
   "source": [
    "df = pd.DataFrame({\"truth\":truth})\n",
    "df[\"prediction\"] = 0\n",
    "\n",
    "df[\"shifted_prediction\"] = 0\n",
    "df[\"shifted_truth\"] = 0\n",
    "df[\"shift\"] = 0\n",
    "\n",
    "df[\"shifted_residual\"] = 0\n",
    "df[\"normal_residual\"] = 0\n",
    "\n",
    "df[\"shifted_lzc\"] = 0\n",
    "df[\"normal_lzc\"] = 0\n",
    "\n",
    "df.head()"
   ]
  },
  {
   "cell_type": "markdown",
   "metadata": {},
   "source": [
    "## Calculate predictions (shifted and normal)"
   ]
  },
  {
   "cell_type": "code",
   "execution_count": null,
   "metadata": {},
   "outputs": [],
   "source": [
    "for i in range(2,df.truth.size):\n",
    "    df[\"prediction\"][i] = df[\"truth\"][i-1]\n",
    "    center = 32 - lzc(df[\"truth\"][i-2] ^ df[\"truth\"][i-1])\n",
    "    df[\"shift\"][i] = shift_calculation(None, center,df[\"prediction\"][i],domain=4)\n",
    "    df[\"shifted_prediction\"][i] = df[\"prediction\"][i] + df[\"shift\"][i]\n",
    "    df[\"shifted_truth\"][i] = df[\"truth\"][i] + df[\"shift\"][i]\n",
    "    df[\"shifted_residual\"][i] = df[\"shifted_prediction\"][i] ^ df[\"shifted_truth\"][i]\n",
    "    df[\"normal_residual\"][i] = df[\"prediction\"][i] ^ df[\"truth\"][i]\n",
    "    df[\"shifted_lzc\"][i] = lzc(df[\"shifted_prediction\"][i] ^ df[\"shifted_truth\"][i])\n",
    "    df[\"normal_lzc\"][i] = lzc(df[\"prediction\"][i] ^ df[\"truth\"][i])\n",
    "df.head()"
   ]
  },
  {
   "cell_type": "markdown",
   "metadata": {},
   "source": [
    "## Analysis"
   ]
  },
  {
   "cell_type": "code",
   "execution_count": null,
   "metadata": {},
   "outputs": [],
   "source": [
    "analysis = [ \n",
    "   (df[\"normal_lzc\"] <= df[\"shifted_lzc\"]).sum(), \n",
    "   (df[\"shifted_lzc\"]-df[\"normal_lzc\"]).sum(), \n",
    "   df[\"normal_lzc\"].sum(), \n",
    "   df[\"shifted_lzc\"].sum(),\n",
    "   df[\"normal_lzc\"].sum()/(df[\"normal_lzc\"].size*32) * 100,\n",
    "   df[\"shifted_lzc\"].sum()/(df[\"shifted_lzc\"].size*32) * 100\n",
    "]\n",
    "print(\n",
    "    \"\"\"\n",
    "    Shifted LZC >= Former LZC (of 1000): {0}\n",
    "    Sum Shifted LZC vs. Sum Former LZC : {2} vs. {3} (diff: {1})\n",
    "    % Shifted LZC vs. % Former LZC : {4}% vs. {5}%\n",
    "    \"\"\".format(*analysis))"
   ]
  },
  {
   "cell_type": "markdown",
   "metadata": {},
   "source": [
    "## Calculate reconstructions (shifted and normal)"
   ]
  },
  {
   "cell_type": "code",
   "execution_count": null,
   "metadata": {},
   "outputs": [],
   "source": [
    "# Reconstruction of original true value"
   ]
  },
  {
   "cell_type": "code",
   "execution_count": null,
   "metadata": {},
   "outputs": [],
   "source": [
    "df[\"reconstruct\"] = 0\n",
    "df[\"shifted_reconstruct\"] = 0"
   ]
  },
  {
   "cell_type": "code",
   "execution_count": null,
   "metadata": {},
   "outputs": [],
   "source": [
    "for i in range(2,df.truth.size):\n",
    "    center = 32 - lzc(df[\"truth\"][i-2] ^ df[\"truth\"][i-1])\n",
    "    shift = shift_calculation(None, center,df[\"prediction\"][i],domain=4)\n",
    "    shifted_truth = (df[\"prediction\"][i] + shift) ^ (df[\"shifted_residual\"][i] + shift) - shift\n",
    "    df[\"shifted_reconstruct\"][i] = shifted_truth - shift\n",
    "    df[\"reconstruct\"][i] = df[\"prediction\"][i] ^ df[\"normal_residual\"][i]"
   ]
  },
  {
   "cell_type": "code",
   "execution_count": null,
   "metadata": {},
   "outputs": [],
   "source": [
    "(np.array_equal(df[\"truth\"][2:],df[\"reconstruct\"][2:]),\n",
    "np.array_equal(df[\"truth\"][2:],df[\"shifted_reconstruct\"][2:]))\n",
    "# reconstruct successful?"
   ]
  },
  {
   "cell_type": "code",
   "execution_count": null,
   "metadata": {},
   "outputs": [],
   "source": [
    "df.tail()"
   ]
  },
  {
   "cell_type": "markdown",
   "metadata": {},
   "source": [
    "## Compare with previous error addition"
   ]
  },
  {
   "cell_type": "code",
   "execution_count": null,
   "metadata": {},
   "outputs": [],
   "source": [
    "df = df[[\"truth\",\"prediction\"]]\n",
    "df.head()"
   ]
  },
  {
   "cell_type": "code",
   "execution_count": null,
   "metadata": {},
   "outputs": [],
   "source": [
    "df[\"prev_error_prediction\"] = 0"
   ]
  },
  {
   "cell_type": "code",
   "execution_count": null,
   "metadata": {
    "scrolled": true
   },
   "outputs": [],
   "source": [
    "delta = 0\n",
    "beta, parts = 1,1\n",
    "for i in range(1, df[\"prev_error_prediction\"].size):\n",
    "    delta = df[\"truth\"][i-1] - df[\"prediction\"][i-1]\n",
    "    overshot = delta < 0\n",
    "    offset = np.abs(delta)\n",
    "    correction = (beta * offset) / parts\n",
    "    if not overshot:\n",
    "        df[\"prev_error_prediction\"][i] =  df[\"prediction\"][i] + correction\n",
    "    elif correction <= df[\"prediction\"][i]:\n",
    "        df[\"prev_error_prediction\"][i] = df[\"prediction\"][i] - correction\n",
    "    else:\n",
    "        df[\"prev_error_prediction\"][i] = 0\n",
    "        offset = 0"
   ]
  },
  {
   "cell_type": "code",
   "execution_count": null,
   "metadata": {},
   "outputs": [],
   "source": [
    "df[\"lzc_normal\"] = lzcu(df['prediction'] ^ df['truth'], 32)\n",
    "df[\"lzc_prev_error\"] = lzcu(df['prev_error_prediction'] ^ df['truth'], 32)"
   ]
  },
  {
   "cell_type": "code",
   "execution_count": null,
   "metadata": {},
   "outputs": [],
   "source": [
    "df.head()"
   ]
  },
  {
   "cell_type": "code",
   "execution_count": null,
   "metadata": {},
   "outputs": [],
   "source": [
    "df[\"lzc_normal\"].mean(),df[\"lzc_prev_error\"].mean()"
   ]
  },
  {
   "cell_type": "code",
   "execution_count": null,
   "metadata": {},
   "outputs": [],
   "source": [
    "df[[\"lzc_normal\",\"lzc_prev_error\"]].max(axis=1).mean()"
   ]
  },
  {
   "cell_type": "markdown",
   "metadata": {},
   "source": [
    "# Improve upon the shifted reconstruction"
   ]
  },
  {
   "cell_type": "code",
   "execution_count": null,
   "metadata": {},
   "outputs": [],
   "source": [
    "def shift_calculation(num, center, pred, domain=4, bits=32):\n",
    "    \"\"\"\n",
    "    Shifted residue calculation\n",
    "    \"\"\"\n",
    "    string_repr = np.binary_repr(pred,bits)\n",
    "    right,left = min(center + domain, bits), max(center - domain, 0)\n",
    "    last_bit = string_repr[left-1]\n",
    "    tmp = string_repr[:left]\n",
    "    if last_bit == \"0\":\n",
    "        val = \"10\"\n",
    "    else:\n",
    "        val = \"01\"\n",
    "    goal = val*((32-left)//2)\n",
    "    h = tmp+goal\n",
    "    if len(h) == 31:\n",
    "        h = h + h[-2]\n",
    "    shift = int(h,2) - pred\n",
    "    return shift"
   ]
  },
  {
   "cell_type": "code",
   "execution_count": null,
   "metadata": {},
   "outputs": [],
   "source": [
    "truth = np.fromfile(\"test.npf\", \"int64\")\n",
    "def shifted_residual_calculation(truth, do, centeroffset):\n",
    "\n",
    "    df = pd.DataFrame({\"truth\":truth})\n",
    "    df[\"prediction\"] = 0\n",
    "\n",
    "    df[\"shifted_prediction\"] = 0\n",
    "    df[\"shifted_truth\"] = 0\n",
    "    df[\"shift\"] = 0\n",
    "\n",
    "    df[\"shifted_residual\"] = 0\n",
    "    df[\"normal_residual\"] = 0\n",
    "\n",
    "    df[\"shifted_lzc\"] = 0\n",
    "    df[\"normal_lzc\"] = 0\n",
    "\n",
    "    for i in range(2,df.truth.size):\n",
    "        df[\"prediction\"][i] = df[\"truth\"][i-1]\n",
    "        center = 32 - lzc(df[\"truth\"][i-2] ^ df[\"truth\"][i-1]) + centeroffset\n",
    "        df[\"shift\"][i] = shift_calculation(None, center,df[\"prediction\"][i],domain=do)\n",
    "        df[\"shifted_prediction\"][i] = df[\"prediction\"][i] + df[\"shift\"][i]\n",
    "        df[\"shifted_truth\"][i] = df[\"truth\"][i] + df[\"shift\"][i]\n",
    "        df[\"shifted_residual\"][i] = df[\"shifted_prediction\"][i] ^ df[\"shifted_truth\"][i]\n",
    "        df[\"normal_residual\"][i] = df[\"prediction\"][i] ^ df[\"truth\"][i]\n",
    "        df[\"shifted_lzc\"][i] = lzc(df[\"shifted_prediction\"][i] ^ df[\"shifted_truth\"][i])\n",
    "        df[\"normal_lzc\"][i] = lzc(df[\"prediction\"][i] ^ df[\"truth\"][i])\n",
    "    analysis = [ \n",
    "       (df[\"normal_lzc\"] <= df[\"shifted_lzc\"]).sum(), \n",
    "       (df[\"shifted_lzc\"]-df[\"normal_lzc\"]).sum(), \n",
    "       df[\"normal_lzc\"].sum(), \n",
    "       df[\"shifted_lzc\"].sum(),\n",
    "       df[\"normal_lzc\"].sum()/(df[\"normal_lzc\"].size*32) * 100,\n",
    "       df[\"shifted_lzc\"].sum()/(df[\"shifted_lzc\"].size*32) * 100\n",
    "    ]\n",
    "#     print(\"Potential:\", df[[\"normal_lzc\",\"shifted_lzc\"]].max(axis=1).sum())\n",
    "#     print(\n",
    "#         \"\"\"\n",
    "#         Shifted LZC >= Former LZC (of 1000): {0}\n",
    "#         Sum Shifted LZC vs. Sum Former LZC : {2} vs. {3} (diff: {1})\n",
    "#         % Shifted LZC vs. % Former LZC : {4}% vs. {5}%\n",
    "#         \"\"\".format(*analysis))\n",
    "    print(\"domain: {} centeroffset: {} [{}] diff:{}\".format(do, centeroffset, center - do, analysis[1]))"
   ]
  },
  {
   "cell_type": "code",
   "execution_count": null,
   "metadata": {
    "scrolled": false
   },
   "outputs": [],
   "source": [
    "for do in range(1,11):\n",
    "    for centeroffset in range(-4,5):\n",
    "        shifted_residual_calculation(truth, do=do, centeroffset=centeroffset)"
   ]
  },
  {
   "cell_type": "markdown",
   "metadata": {},
   "source": [
    "Until now the shift value was dependent on the previous LZC. To better analyse the effects this will be changed to a set center"
   ]
  },
  {
   "cell_type": "markdown",
   "metadata": {},
   "source": [
    "# Find out were the optimal shift position is\n",
    "## One shift position for all"
   ]
  },
  {
   "cell_type": "code",
   "execution_count": null,
   "metadata": {},
   "outputs": [],
   "source": [
    "truth = np.fromfile(\"test.npf\", \"int64\")\n",
    "def shift_calculation_by_pos(prev_truth, prev_prev_truth, prediction, pos, bits=32):\n",
    "    \"\"\"\n",
    "    Shifted residue calculation\n",
    "    \"\"\"\n",
    "    string_repr = np.binary_repr(prediction,bits)\n",
    "    last_bit = string_repr[pos-1]\n",
    "    tmp = string_repr[:pos]\n",
    "    if last_bit == \"0\":\n",
    "        val = \"10\"\n",
    "    else:\n",
    "        val = \"01\"\n",
    "    goal = val*((32-pos)//2)\n",
    "    h = tmp+goal\n",
    "    if len(h) == 31:\n",
    "        h = h + h[-2]\n",
    "    shift = int(h,2) - prediction\n",
    "    return shift"
   ]
  },
  {
   "cell_type": "code",
   "execution_count": null,
   "metadata": {},
   "outputs": [],
   "source": [
    "def shifted_residual_calculation_pos(truth, shift_calculation_method, **kwargs):\n",
    "\n",
    "    df = pd.DataFrame({\"truth\":truth})\n",
    "    df[\"prediction\"] = 0\n",
    "\n",
    "    df[\"shifted_prediction\"] = 0\n",
    "    df[\"shifted_truth\"] = 0\n",
    "    df[\"shift\"] = 0\n",
    "\n",
    "    df[\"shifted_residual\"] = 0\n",
    "    df[\"normal_residual\"] = 0\n",
    "\n",
    "    df[\"shifted_lzc\"] = 0\n",
    "    df[\"normal_lzc\"] = 0\n",
    "\n",
    "    for i in range(2,df.truth.size):\n",
    "        df[\"prediction\"][i] = df[\"truth\"][i-1]\n",
    "        df[\"shift\"][i] = shift_calculation_method(df[\"truth\"][i-1], df[\"truth\"][i-2], df[\"prediction\"][i], **kwargs)\n",
    "        df[\"shifted_prediction\"][i] = df[\"prediction\"][i] + df[\"shift\"][i]\n",
    "        df[\"shifted_truth\"][i] = df[\"truth\"][i] + df[\"shift\"][i]\n",
    "        df[\"shifted_residual\"][i] = df[\"shifted_prediction\"][i] ^ df[\"shifted_truth\"][i]\n",
    "        df[\"normal_residual\"][i] = df[\"prediction\"][i] ^ df[\"truth\"][i]\n",
    "        df[\"shifted_lzc\"][i] = lzc(df[\"shifted_prediction\"][i] ^ df[\"shifted_truth\"][i])\n",
    "        df[\"normal_lzc\"][i] = lzc(df[\"prediction\"][i] ^ df[\"truth\"][i])\n",
    "    diff = (df[\"shifted_lzc\"]-df[\"normal_lzc\"]).sum()\n",
    "    print(\"pos {}, diff {}\".format(pos, diff))\n",
    "    return df"
   ]
  },
  {
   "cell_type": "code",
   "execution_count": null,
   "metadata": {
    "scrolled": true
   },
   "outputs": [],
   "source": [
    "for pos in range(1,30):\n",
    "    shifted_residual_calculation_pos(truth, shift_calculation_by_pos, pos=pos)"
   ]
  },
  {
   "cell_type": "code",
   "execution_count": null,
   "metadata": {},
   "outputs": [],
   "source": [
    "maximums = []\n",
    "before = []\n",
    "pos = 977\n",
    "pred = truth[pos]; spred = np.binary_repr(pred,32)\n",
    "tru = truth[pos+1]; stru = np.binary_repr(tru,32)\n",
    "before_lcount = lzc(pred^tru)\n",
    "print(spred[:before_lcount], spred[before_lcount:], lzc(truth[pos-1] ^ pred))\n",
    "print(stru[:before_lcount], stru[before_lcount:])\n",
    "lzcounts = [lzc((pred + shift_calculation_by_pos(None,None,pred, k))^( tru + shift_calculation_by_pos(None,None,pred, k))) for k in range(33)]\n",
    "for k in range(1,33):\n",
    "    shift = shift_calculation_by_pos(None,None,pred, k)\n",
    "    lcount = lzc((pred + shift)^( tru + shift))\n",
    "    print(\"{:>3} {:>32b} {:>32b} {} {}\".format(k, shift, shift+tru, lcount, before_lcount))\n",
    "maximums.append(max(lzcounts))\n",
    "before.append(before_lcount)"
   ]
  },
  {
   "cell_type": "code",
   "execution_count": null,
   "metadata": {},
   "outputs": [],
   "source": [
    "maximums = []\n",
    "before = []\n",
    "for pos in range(999):\n",
    "    pred = truth[pos]; spred = np.binary_repr(pred,32)\n",
    "    tru = truth[pos+1]; stru = np.binary_repr(tru,32)\n",
    "    before_lcount = lzc(pred^tru)\n",
    "#     print(spred[:before_lcount], spred[before_lcount:])\n",
    "#     print(stru[:before_lcount], stru[before_lcount:])\n",
    "    lzcounts = [lzc((pred + shift_calculation_by_pos(None,None,pred, k))^( tru + shift_calculation_by_pos(None,None,pred, k))) for k in range(33)]\n",
    "#     for k in range(1,33):\n",
    "#         shift = shift_calculation_by_pos(None,None,pred, k)\n",
    "#         lcount = lzc((pred + shift)^( tru + shift))\n",
    "#         print(\"{:>3} {:>32b} {:>32b} {} {}\".format(k, shift, shift+tru, lcount, before_lcount))\n",
    "    maximums.append(max(lzcounts))\n",
    "    before.append(before_lcount)"
   ]
  },
  {
   "cell_type": "code",
   "execution_count": null,
   "metadata": {},
   "outputs": [],
   "source": [
    "(np.array(maximums)>np.array(before)).sum()"
   ]
  },
  {
   "cell_type": "code",
   "execution_count": null,
   "metadata": {},
   "outputs": [],
   "source": [
    "np.array(maximums).sum()/32000,np.array(before).sum()/32000"
   ]
  },
  {
   "cell_type": "code",
   "execution_count": null,
   "metadata": {},
   "outputs": [],
   "source": [
    "np.binary_repr(truth[pos])"
   ]
  },
  {
   "cell_type": "code",
   "execution_count": null,
   "metadata": {},
   "outputs": [],
   "source": [
    "np.binary_repr(truth[pos+1])"
   ]
  },
  {
   "cell_type": "code",
   "execution_count": null,
   "metadata": {},
   "outputs": [],
   "source": [
    "(np.array(maximums)>np.array(before))"
   ]
  },
  {
   "cell_type": "code",
   "execution_count": null,
   "metadata": {},
   "outputs": [],
   "source": [
    "zero_one = int(\"01\"*16,2)\n",
    "one_zero = int(\"10\"*16,2)\n",
    "int(\"01\"*16,2), int(\"10\"*16,2)"
   ]
  },
  {
   "cell_type": "code",
   "execution_count": null,
   "metadata": {},
   "outputs": [],
   "source": [
    "cut = 20\n",
    "np.binary_repr((truth[pos+1] >> cut) << cut,32)"
   ]
  },
  {
   "cell_type": "code",
   "execution_count": null,
   "metadata": {},
   "outputs": [],
   "source": [
    "last_value = (truth[pos+1] >> cut) & 1\n",
    "last_value"
   ]
  },
  {
   "cell_type": "code",
   "execution_count": null,
   "metadata": {},
   "outputs": [],
   "source": [
    "def get_shift_with_overflow(num, cut):\n",
    "#     assert bits in (32,64), \"Unknown bits {}\".format(bits)\n",
    "    zero_one = 1431655765 #if bits==32 else 6148914691236517205\n",
    "    one_zero = 2863311530 #if bits==32 else 12297829382473034410\n",
    "    base = (num >> cut) << cut\n",
    "    last_value = (num >> cut) & 1\n",
    "    if last_value == 1:\n",
    "        delta = zero_one >> (32 - cut)\n",
    "    #     subtract = False\n",
    "    #     goal = base + delta\n",
    "    #     shift = num - goal\n",
    "    else:\n",
    "        delta = one_zero >> (32 - cut)\n",
    "    #     subtract = True\n",
    "    #     goal = base + delta\n",
    "    #     shift = goal - num\n",
    "    shift = base + delta - num\n",
    "    return shift"
   ]
  },
  {
   "cell_type": "code",
   "execution_count": null,
   "metadata": {},
   "outputs": [],
   "source": [
    "def get_shift_without_overflow(num, cut, bits = 32):\n",
    "    \"\"\"\n",
    "    Get shift value within the u32/u64 value range.\n",
    "    \"\"\"\n",
    "    assert bits in (32,64), \"Unknown bits {}\".format(bits)\n",
    "    zero_one = 1431655765 if bits==32 else 6148914691236517205\n",
    "    one_zero = 2863311530 if bits==32 else 12297829382473034410\n",
    "    base = (num >> cut) << cut\n",
    "    last_value = (num >> cut) & 1\n",
    "    if last_value == 1:\n",
    "        delta = zero_one >> (bits - cut)\n",
    "        subtract = False\n",
    "        goal = base + delta\n",
    "        shift = num - goal\n",
    "    else:\n",
    "        delta = one_zero >> (bits - cut)\n",
    "        subtract = True\n",
    "        goal = base + delta\n",
    "        shift = goal - num\n",
    "    return subtract, shift"
   ]
  },
  {
   "cell_type": "code",
   "execution_count": null,
   "metadata": {},
   "outputs": [],
   "source": [
    "output = []\n",
    "for i in range(truth.size):\n",
    "    o  = get_shift_with_overflow(truth[i],20) + truth[i]\n",
    "    a,b = get_shift_without_overflow(truth[i],20) \n",
    "    wo = truth[i]+b if a else truth[i]-b\n",
    "    output.append(o == wo)"
   ]
  },
  {
   "cell_type": "code",
   "execution_count": null,
   "metadata": {},
   "outputs": [],
   "source": [
    "def shift_value(num, sign, delta):\n",
    "    return num+delta if sign else num-delta"
   ]
  },
  {
   "cell_type": "code",
   "execution_count": null,
   "metadata": {},
   "outputs": [],
   "source": [
    "pos = 48\n",
    "prediction = truth[pos]\n",
    "tru = truth[pos+1]\n",
    "\n",
    "shift = get_shift_without_overflow(prediction, 20)\n",
    "shifted_prediction = shift_value(prediction, *shift)\n",
    "shifted_truth = shift_value(tru, *shift)"
   ]
  },
  {
   "cell_type": "code",
   "execution_count": null,
   "metadata": {},
   "outputs": [],
   "source": [
    "lzc(shifted_prediction ^ shifted_truth)"
   ]
  },
  {
   "cell_type": "code",
   "execution_count": null,
   "metadata": {},
   "outputs": [],
   "source": [
    "lzc(truth[pos] ^ truth[pos+1])"
   ]
  },
  {
   "cell_type": "markdown",
   "metadata": {},
   "source": [
    "# New start"
   ]
  },
  {
   "cell_type": "code",
   "execution_count": null,
   "metadata": {},
   "outputs": [],
   "source": [
    "truth = np.fromfile(\"test.npf\", \"int64\")\n",
    "def shift_calculation_by_pos(prev_truth, prev_prev_truth, prediction, pos, bits=32):\n",
    "    \"\"\"\n",
    "    Shifted residue calculation\n",
    "    \"\"\"\n",
    "    string_repr = np.binary_repr(prediction,bits)\n",
    "    last_bit = string_repr[pos-1]\n",
    "    tmp = string_repr[:pos]\n",
    "    if last_bit == \"0\":\n",
    "        val = \"10\"\n",
    "    else:\n",
    "        val = \"01\"\n",
    "    goal = val*((32-pos)//2)\n",
    "    h = tmp+goal\n",
    "    if len(h) == 31:\n",
    "        h = h + h[-2]\n",
    "    shift = int(h,2) - prediction\n",
    "    return shift"
   ]
  },
  {
   "cell_type": "code",
   "execution_count": null,
   "metadata": {},
   "outputs": [],
   "source": [
    "truth = np.fromfile(\"test.npf\", \"int64\")\n",
    "def shift_calculation_to_0(prev_truth, prev_prev_truth, prediction, pos, bits=32):\n",
    "    \"\"\"\n",
    "    Shifted residue calculation\n",
    "    \"\"\"\n",
    "    return -prediction"
   ]
  },
  {
   "cell_type": "code",
   "execution_count": null,
   "metadata": {},
   "outputs": [],
   "source": [
    "truth = np.fromfile(\"test.npf\", \"int64\")\n",
    "def shift_calculation_to_1(prev_truth, prev_prev_truth, prediction, pos, bits=32):\n",
    "    \"\"\"\n",
    "    Shifted residue calculation\n",
    "    \"\"\"\n",
    "    return int(\"1\"*32,2) - prediction"
   ]
  },
  {
   "cell_type": "code",
   "execution_count": null,
   "metadata": {},
   "outputs": [],
   "source": [
    "def shift_calculation_compress(prediction, truth, bits=32):\n",
    "    real_residual = prediction ^ truth\n",
    "    zero_residual = np.array(real_residual, dtype='uint32') + 0\n",
    "    once_residual = np.array(np.invert(real_residual), dtype='uint32') + 0\n",
    "    if zero_residual ^ prediction > prediction & once_residual ^ prediction > prediction:\n",
    "        return once_residual    \n",
    "    elif zero_residual ^ prediction < prediction & once_residual ^ prediction < prediction:\n",
    "        return zero_residual\n",
    "    return shift_calculation_by_pos(None, None, prediction, 20)\n",
    "#     print(real_residual, zero_residual, once_residual)"
   ]
  },
  {
   "cell_type": "code",
   "execution_count": null,
   "metadata": {},
   "outputs": [],
   "source": [
    "def shift_calculation_decompress(prediction, residual, bit=32):\n",
    "    inverse_residual = np.array(np.invert(residual), dtype='uint32') + 0\n",
    "    if prediction ^ residual > prediction & prediction ^ inverse_residual > prediction:\n",
    "        return 4294967281\n",
    "    ## Hier sind wir stehen geblieben"
   ]
  },
  {
   "cell_type": "code",
   "execution_count": null,
   "metadata": {},
   "outputs": [],
   "source": [
    "np.binary_repr(30, 32)"
   ]
  },
  {
   "cell_type": "code",
   "execution_count": null,
   "metadata": {},
   "outputs": [],
   "source": []
  },
  {
   "cell_type": "code",
   "execution_count": null,
   "metadata": {},
   "outputs": [],
   "source": []
  }
 ],
 "metadata": {
  "kernelspec": {
   "display_name": "Python 3",
   "language": "python",
   "name": "python3"
  },
  "language_info": {
   "codemirror_mode": {
    "name": "ipython",
    "version": 3
   },
   "file_extension": ".py",
   "mimetype": "text/x-python",
   "name": "python",
   "nbconvert_exporter": "python",
   "pygments_lexer": "ipython3",
   "version": "3.6.6"
  }
 },
 "nbformat": 4,
 "nbformat_minor": 2
}
