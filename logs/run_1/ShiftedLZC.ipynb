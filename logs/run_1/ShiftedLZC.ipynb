{
 "cells": [
  {
   "cell_type": "code",
   "execution_count": null,
   "metadata": {},
   "outputs": [],
   "source": [
    "from glob import glob\n",
    "import pandas as pd\n",
    "from io import StringIO\n",
    "import numpy as np\n",
    "from collections import namedtuple\n",
    "from matplotlib import pyplot as plt\n",
    "%matplotlib inline"
   ]
  },
  {
   "cell_type": "code",
   "execution_count": null,
   "metadata": {},
   "outputs": [],
   "source": [
    "a = int(\"11010010\",2)\n",
    "b = int(\"11010101\",2)\n",
    "diff = b - a\n",
    "\n",
    "bin(a - diff), bin(b + 2*diff)\n",
    "\n",
    "a = int(\"11010010\",2) - int(\"1101\",2)\n",
    "b = int(\"11010101\",2) - int(\"1101\",2)\n",
    "diff = b - a\n",
    "\n",
    "bin(a - diff), bin(b + 2*diff)\n",
    "\n",
    "bin(int(\"11010101\",2) - \n",
    "int(\"10101010\",2))\n",
    "\n",
    "a = int(\"11010010\",2) - int(\"101011\",2)\n",
    "b = int(\"11010101\",2) - int(\"101011\",2)\n",
    "diff = b - a\n",
    "\n",
    "bin(a - diff), bin(b + 2*diff)"
   ]
  },
  {
   "cell_type": "code",
   "execution_count": null,
   "metadata": {},
   "outputs": [],
   "source": [
    "num =  int(\"11010010\",2)\n",
    "pred = int(\"11010101\",2)\n",
    "center = 4\n",
    "# shift_calculation(num, 32 - center, pred, domain=4)"
   ]
  },
  {
   "cell_type": "markdown",
   "metadata": {},
   "source": [
    "### Shift and LZC calculation"
   ]
  },
  {
   "cell_type": "code",
   "execution_count": null,
   "metadata": {},
   "outputs": [],
   "source": [
    "def shift_calculation(num, center, pred, domain=4, bits=32):\n",
    "    string_repr = np.binary_repr(pred,bits)\n",
    "    right,left = min(center + domain, bits), max(center - domain, 0)\n",
    "    last_bit = string_repr[left-1]\n",
    "    if last_bit == \"0\":\n",
    "        val = \"10\"\n",
    "    else:\n",
    "        val = \"01\"\n",
    "    goal = val*(domain+(32-right))\n",
    "    tmp = string_repr[:left]\n",
    "    h = tmp+goal\n",
    "    shift = int(goal,2) - pred\n",
    "    return shift"
   ]
  },
  {
   "cell_type": "code",
   "execution_count": null,
   "metadata": {},
   "outputs": [],
   "source": [
    "def lzc(val, bits=32):\n",
    "    \"\"\"Count leading zeroes.\"\"\"\n",
    "    cnt = 0\n",
    "    for i in range(0, bits):\n",
    "        if val & (1 << (bits - 1 - i)) != 0:\n",
    "            break\n",
    "        cnt += 1\n",
    "    return cnt\n",
    "lzcu = np.frompyfunc(lzc, 2, 1)"
   ]
  },
  {
   "cell_type": "markdown",
   "metadata": {},
   "source": [
    "# Test\n",
    "## Read data and prepare dataframe"
   ]
  },
  {
   "cell_type": "code",
   "execution_count": null,
   "metadata": {},
   "outputs": [],
   "source": [
    "truth = np.fromfile(\"test.npf\", \"int64\")"
   ]
  },
  {
   "cell_type": "code",
   "execution_count": null,
   "metadata": {},
   "outputs": [],
   "source": [
    "df = pd.DataFrame({\"truth\":truth})\n",
    "df[\"prediction\"] = 0\n",
    "\n",
    "df[\"shifted_prediction\"] = 0\n",
    "df[\"shifted_truth\"] = 0\n",
    "df[\"shift\"] = 0\n",
    "\n",
    "df[\"shifted_residual\"] = 0\n",
    "df[\"normal_residual\"] = 0\n",
    "\n",
    "df[\"shifted_lzc\"] = 0\n",
    "df[\"normal_lzc\"] = 0\n",
    "\n",
    "df.head()"
   ]
  },
  {
   "cell_type": "markdown",
   "metadata": {},
   "source": [
    "## Calculate predictions (shifted and normal)"
   ]
  },
  {
   "cell_type": "code",
   "execution_count": null,
   "metadata": {},
   "outputs": [],
   "source": [
    "for i in range(2,df.truth.size):\n",
    "    df[\"prediction\"][i] = df[\"truth\"][i-1]\n",
    "    center = 32 - lzc(df[\"truth\"][i-2] ^ df[\"truth\"][i-1])\n",
    "    df[\"shift\"][i] = shift_calculation(None, center,df[\"prediction\"][i],domain=4)\n",
    "    df[\"shifted_prediction\"][i] = df[\"prediction\"][i] + df[\"shift\"][i]\n",
    "    df[\"shifted_truth\"][i] = df[\"truth\"][i] + df[\"shift\"][i]\n",
    "    df[\"shifted_residual\"][i] = df[\"shifted_prediction\"][i] ^ df[\"shifted_truth\"][i]\n",
    "    df[\"normal_residual\"][i] = df[\"prediction\"][i] ^ df[\"truth\"][i]\n",
    "    df[\"shifted_lzc\"][i] = lzc(df[\"shifted_prediction\"][i] ^ df[\"shifted_truth\"][i])\n",
    "    df[\"normal_lzc\"][i] = lzc(df[\"prediction\"][i] ^ df[\"truth\"][i])\n",
    "df.head()"
   ]
  },
  {
   "cell_type": "markdown",
   "metadata": {},
   "source": [
    "## Analysis"
   ]
  },
  {
   "cell_type": "code",
   "execution_count": null,
   "metadata": {},
   "outputs": [],
   "source": [
    "analysis = [ \n",
    "   (df[\"normal_lzc\"] <= df[\"shifted_lzc\"]).sum(), \n",
    "   (df[\"shifted_lzc\"]-df[\"normal_lzc\"]).sum(), \n",
    "   df[\"normal_lzc\"].sum(), \n",
    "   df[\"shifted_lzc\"].sum(),\n",
    "   df[\"normal_lzc\"].sum()/(df[\"normal_lzc\"].size*32) * 100,\n",
    "   df[\"shifted_lzc\"].sum()/(df[\"shifted_lzc\"].size*32) * 100\n",
    "]\n",
    "print(\n",
    "    \"\"\"\n",
    "    Shifted LZC >= Former LZC (of 1000): {0}\n",
    "    Sum Shifted LZC vs. Sum Former LZC : {2} vs. {3} (diff: {1})\n",
    "    % Shifted LZC vs. % Former LZC : {4}% vs. {5}%\n",
    "    \"\"\".format(*analysis))"
   ]
  },
  {
   "cell_type": "markdown",
   "metadata": {},
   "source": [
    "## Calculate reconstructions (shifted and normal)"
   ]
  },
  {
   "cell_type": "code",
   "execution_count": null,
   "metadata": {},
   "outputs": [],
   "source": [
    "# Reconstruction of original true value"
   ]
  },
  {
   "cell_type": "code",
   "execution_count": null,
   "metadata": {},
   "outputs": [],
   "source": [
    "df[\"reconstruct\"] = 0\n",
    "df[\"shifted_reconstruct\"] = 0"
   ]
  },
  {
   "cell_type": "code",
   "execution_count": null,
   "metadata": {},
   "outputs": [],
   "source": [
    "for i in range(2,df.truth.size):\n",
    "    center = 32 - lzc(df[\"truth\"][i-2] ^ df[\"truth\"][i-1])\n",
    "    shift = shift_calculation(None, center,df[\"prediction\"][i],domain=4)\n",
    "    shifted_truth = (df[\"prediction\"][i] + shift) ^ (df[\"shifted_residual\"][i] + shift) - shift\n",
    "    df[\"shifted_reconstruct\"][i] = shifted_truth - shift\n",
    "    df[\"reconstruct\"][i] = df[\"prediction\"][i] ^ df[\"normal_residual\"][i]"
   ]
  },
  {
   "cell_type": "code",
   "execution_count": null,
   "metadata": {},
   "outputs": [],
   "source": [
    "(np.array_equal(df[\"truth\"][2:],df[\"reconstruct\"][2:]),\n",
    "np.array_equal(df[\"truth\"][2:],df[\"shifted_reconstruct\"][2:]))\n",
    "# reconstruct successful?"
   ]
  },
  {
   "cell_type": "code",
   "execution_count": null,
   "metadata": {},
   "outputs": [],
   "source": [
    "df.tail()"
   ]
  },
  {
   "cell_type": "markdown",
   "metadata": {},
   "source": [
    "## Compare with previous error addition"
   ]
  },
  {
   "cell_type": "code",
   "execution_count": null,
   "metadata": {},
   "outputs": [],
   "source": [
    "df = df[[\"truth\",\"prediction\"]]\n",
    "df.head()"
   ]
  },
  {
   "cell_type": "code",
   "execution_count": null,
   "metadata": {},
   "outputs": [],
   "source": [
    "df[\"prev_error_prediction\"] = 0"
   ]
  },
  {
   "cell_type": "code",
   "execution_count": null,
   "metadata": {
    "scrolled": true
   },
   "outputs": [],
   "source": [
    "delta = 0\n",
    "beta, parts = 1,1\n",
    "for i in range(1, df[\"prev_error_prediction\"].size):\n",
    "    delta = df[\"truth\"][i-1] - df[\"prediction\"][i-1]\n",
    "    overshot = delta < 0\n",
    "    offset = np.abs(delta)\n",
    "    correction = (beta * offset) / parts\n",
    "    if not overshot:\n",
    "        df[\"prev_error_prediction\"][i] =  df[\"prediction\"][i] + correction\n",
    "    elif correction <= df[\"prediction\"][i]:\n",
    "        df[\"prev_error_prediction\"][i] = df[\"prediction\"][i] - correction\n",
    "    else:\n",
    "        df[\"prev_error_prediction\"][i] = 0\n",
    "        offset = 0"
   ]
  },
  {
   "cell_type": "code",
   "execution_count": null,
   "metadata": {},
   "outputs": [],
   "source": [
    "df[\"lzc_normal\"] = lzcu(df['prediction'] ^ df['truth'], 32)\n",
    "df[\"lzc_prev_error\"] = lzcu(df['prev_error_prediction'] ^ df['truth'], 32)"
   ]
  },
  {
   "cell_type": "code",
   "execution_count": null,
   "metadata": {},
   "outputs": [],
   "source": [
    "df.head()"
   ]
  },
  {
   "cell_type": "code",
   "execution_count": null,
   "metadata": {},
   "outputs": [],
   "source": [
    "df[\"lzc_normal\"].mean(),df[\"lzc_prev_error\"].mean()"
   ]
  },
  {
   "cell_type": "code",
   "execution_count": null,
   "metadata": {},
   "outputs": [],
   "source": [
    "df[[\"lzc_normal\",\"lzc_prev_error\"]].max(axis=1).mean()"
   ]
  },
  {
   "cell_type": "markdown",
   "metadata": {},
   "source": [
    "# Improve upon the shifted reconstruction"
   ]
  },
  {
   "cell_type": "code",
   "execution_count": null,
   "metadata": {},
   "outputs": [],
   "source": [
    "def shift_calculation(num, center, pred, domain=4, bits=32):\n",
    "    \"\"\"\n",
    "    Shifted residue calculation\n",
    "    \n",
    "    \n",
    "    \n",
    "    \"\"\"\n",
    "    string_repr = np.binary_repr(pred,bits)\n",
    "    right,left = min(center + domain, bits), max(center - domain, 0)\n",
    "    last_bit = string_repr[left-1]\n",
    "    tmp = string_repr[:left]\n",
    "    if last_bit == \"0\":\n",
    "        val = \"10\"\n",
    "    else:\n",
    "        val = \"01\"\n",
    "    goal = val*((32-left)//2)\n",
    "    h = tmp+goal\n",
    "    if len(h) == 31:\n",
    "        h = h + h[-2]\n",
    "    shift = int(goal,2) - pred\n",
    "    return shift"
   ]
  },
  {
   "cell_type": "code",
   "execution_count": null,
   "metadata": {},
   "outputs": [],
   "source": [
    "truth = np.fromfile(\"test.npf\", \"int64\")\n",
    "def shifted_residual_calculation(truth, do, centeroffset):\n",
    "\n",
    "    df = pd.DataFrame({\"truth\":truth})\n",
    "    df[\"prediction\"] = 0\n",
    "\n",
    "    df[\"shifted_prediction\"] = 0\n",
    "    df[\"shifted_truth\"] = 0\n",
    "    df[\"shift\"] = 0\n",
    "\n",
    "    df[\"shifted_residual\"] = 0\n",
    "    df[\"normal_residual\"] = 0\n",
    "\n",
    "    df[\"shifted_lzc\"] = 0\n",
    "    df[\"normal_lzc\"] = 0\n",
    "\n",
    "    for i in range(2,df.truth.size):\n",
    "        df[\"prediction\"][i] = df[\"truth\"][i-1]\n",
    "        center = 32 - lzc(df[\"truth\"][i-2] ^ df[\"truth\"][i-1]) + centeroffset\n",
    "        df[\"shift\"][i] = shift_calculation(None, center,df[\"prediction\"][i],domain=do)\n",
    "        df[\"shifted_prediction\"][i] = df[\"prediction\"][i] + df[\"shift\"][i]\n",
    "        df[\"shifted_truth\"][i] = df[\"truth\"][i] + df[\"shift\"][i]\n",
    "        df[\"shifted_residual\"][i] = df[\"shifted_prediction\"][i] ^ df[\"shifted_truth\"][i]\n",
    "        df[\"normal_residual\"][i] = df[\"prediction\"][i] ^ df[\"truth\"][i]\n",
    "        df[\"shifted_lzc\"][i] = lzc(df[\"shifted_prediction\"][i] ^ df[\"shifted_truth\"][i])\n",
    "        df[\"normal_lzc\"][i] = lzc(df[\"prediction\"][i] ^ df[\"truth\"][i])\n",
    "    analysis = [ \n",
    "       (df[\"normal_lzc\"] <= df[\"shifted_lzc\"]).sum(), \n",
    "       (df[\"shifted_lzc\"]-df[\"normal_lzc\"]).sum(), \n",
    "       df[\"normal_lzc\"].sum(), \n",
    "       df[\"shifted_lzc\"].sum(),\n",
    "       df[\"normal_lzc\"].sum()/(df[\"normal_lzc\"].size*32) * 100,\n",
    "       df[\"shifted_lzc\"].sum()/(df[\"shifted_lzc\"].size*32) * 100\n",
    "    ]\n",
    "    print(\"Potential:\", df[[\"normal_lzc\",\"shifted_lzc\"]].max(axis=1).sum())\n",
    "    print(\n",
    "        \"\"\"\n",
    "        Shifted LZC >= Former LZC (of 1000): {0}\n",
    "        Sum Shifted LZC vs. Sum Former LZC : {2} vs. {3} (diff: {1})\n",
    "        % Shifted LZC vs. % Former LZC : {4}% vs. {5}%\n",
    "        \"\"\".format(*analysis))"
   ]
  },
  {
   "cell_type": "code",
   "execution_count": null,
   "metadata": {
    "scrolled": false
   },
   "outputs": [],
   "source": [
    "for do in range(1,11):\n",
    "    for centeroffset in range(-4,5):\n",
    "        print(do, centeroffset)\n",
    "        shifted_residual_calculation(truth, do=do, centeroffset=centeroffset)"
   ]
  },
  {
   "cell_type": "code",
   "execution_count": null,
   "metadata": {},
   "outputs": [],
   "source": [
    "binarize = np.frompyfunc(np.binary_repr, 2 , 1)"
   ]
  },
  {
   "cell_type": "code",
   "execution_count": null,
   "metadata": {
    "scrolled": true
   },
   "outputs": [],
   "source": [
    "# binarize(df[[\"truth\",\"prediction\",\"shifted_prediction\",\"shifted_truth\",\"shifted_xor\"]], 32).head()"
   ]
  },
  {
   "cell_type": "code",
   "execution_count": null,
   "metadata": {},
   "outputs": [],
   "source": [
    "df[\"shifted_xor\"] = df[\"shifted_prediction\"] ^ df[\"shifted_truth\"]"
   ]
  },
  {
   "cell_type": "code",
   "execution_count": null,
   "metadata": {},
   "outputs": [],
   "source": []
  }
 ],
 "metadata": {
  "kernelspec": {
   "display_name": "Python 3",
   "language": "python",
   "name": "python3"
  },
  "language_info": {
   "codemirror_mode": {
    "name": "ipython",
    "version": 3
   },
   "file_extension": ".py",
   "mimetype": "text/x-python",
   "name": "python",
   "nbconvert_exporter": "python",
   "pygments_lexer": "ipython3",
   "version": "3.6.6"
  }
 },
 "nbformat": 4,
 "nbformat_minor": 2
}
