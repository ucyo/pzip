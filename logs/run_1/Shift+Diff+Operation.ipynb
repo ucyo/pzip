{
 "cells": [
  {
   "cell_type": "code",
   "execution_count": null,
   "metadata": {},
   "outputs": [],
   "source": [
    "import numpy as np\n",
    "import matplotlib.pyplot as plt\n",
    "from collections import namedtuple\n",
    "import pandas as pd\n",
    "%matplotlib inline"
   ]
  },
  {
   "cell_type": "code",
   "execution_count": null,
   "metadata": {},
   "outputs": [],
   "source": [
    "def lzc(val, bits=32):\n",
    "    \"\"\"Count leading zeroes.\"\"\"\n",
    "    cnt = 0\n",
    "    for i in range(0, bits):\n",
    "        if val & (1 << (bits - 1 - i)) != 0:\n",
    "            break\n",
    "        cnt += 1\n",
    "    return cnt\n",
    "lzcu = np.frompyfunc(lzc, 2, 1)"
   ]
  },
  {
   "cell_type": "code",
   "execution_count": null,
   "metadata": {
    "scrolled": false
   },
   "outputs": [],
   "source": [
    "def abs_diff(truth, pred):\n",
    "    assert truth.size == pred.size, \"Different sizes\"\n",
    "    result = np.zeros(truth.size).astype(truth.dtype)\n",
    "    sign = np.ones(truth.size).astype(bool) * False\n",
    "    for i in range(truth.size):\n",
    "        low_shot = truth[i] > pred[i]\n",
    "        result[i] = truth[i] - pred[i] if low_shot else pred[i] - truth[i]\n",
    "        sign[i] = low_shot\n",
    "    return sign, result"
   ]
  },
  {
   "cell_type": "code",
   "execution_count": null,
   "metadata": {},
   "outputs": [],
   "source": [
    "truth = np.fromfile(\"test.npf\", \"int64\")"
   ]
  },
  {
   "cell_type": "code",
   "execution_count": null,
   "metadata": {},
   "outputs": [],
   "source": [
    "df = pd.DataFrame({'truth':truth})"
   ]
  },
  {
   "cell_type": "code",
   "execution_count": null,
   "metadata": {},
   "outputs": [],
   "source": [
    "df['prediction'] = df.truth.shift()\n",
    "df.loc[0,'prediction'] = 0\n",
    "df = df.astype('uint32')"
   ]
  },
  {
   "cell_type": "code",
   "execution_count": null,
   "metadata": {
    "scrolled": false
   },
   "outputs": [],
   "source": [
    "df['xor'] = df.truth ^ df.prediction\n",
    "df['low_shot'], df['diff'] = abs_diff(df.truth, df.prediction)\n",
    "df['lzc_xor'] = lzcu(df.loc[:,'xor'], 32)\n",
    "df['lzc_diff'] = lzcu(df.loc[:,'diff'], 32)"
   ]
  },
  {
   "cell_type": "code",
   "execution_count": null,
   "metadata": {},
   "outputs": [],
   "source": [
    "df.head()"
   ]
  },
  {
   "cell_type": "code",
   "execution_count": null,
   "metadata": {},
   "outputs": [],
   "source": [
    "all_cases = df.index.size\n",
    "diff_better = df.loc[:,'xor'] >= df.loc[:,'diff']\n",
    "diff_bits_better = lzcu(df.loc[:,'xor'], 32) < lzcu(df.loc[:,'diff'], 32)\n",
    "diff_bits_better_2bits = lzcu(df.loc[:,'xor'], 32) + 2 <= lzcu(df.loc[:,'diff'], 32) \n",
    "all_cases, diff_better.sum(), diff_bits_better.sum(), diff_bits_better_2bits.sum()"
   ]
  },
  {
   "cell_type": "code",
   "execution_count": null,
   "metadata": {},
   "outputs": [],
   "source": [
    "df.lzc_diff.sum(), df.lzc_xor.sum()\n",
    "# diff_lzc - sign_bits, xor_lzc + first_bit"
   ]
  },
  {
   "cell_type": "code",
   "execution_count": null,
   "metadata": {},
   "outputs": [],
   "source": [
    "df[df.lzc_xor > df.lzc_diff].size"
   ]
  },
  {
   "cell_type": "markdown",
   "metadata": {},
   "source": [
    "DIFF is often smaller than XOR regarding absolute representation or bit."
   ]
  },
  {
   "cell_type": "code",
   "execution_count": null,
   "metadata": {},
   "outputs": [],
   "source": [
    "def shift_calculation_by_pos(prediction, pos, bits=32):\n",
    "    \"\"\"\n",
    "    Shifted residue calculation\n",
    "    \"\"\"\n",
    "    pos = bits - pos\n",
    "    string_repr = np.binary_repr(prediction,bits)\n",
    "    last_bit = string_repr[pos-1]\n",
    "    tmp = string_repr[:pos]\n",
    "    if last_bit == \"0\":\n",
    "        val = \"10\"\n",
    "    else:\n",
    "        val = \"01\"\n",
    "    goal = val*((32-pos)//2)\n",
    "    h = tmp+goal\n",
    "    if len(h) == 31:\n",
    "        h = h + h[-2]\n",
    "    shift = int(h,2) - prediction\n",
    "    return shift\n",
    "\n",
    "def shift_pos_lzc(pred, truth, pos):\n",
    "    s = shift_calculation_by_pos(pred, pos)\n",
    "    spred = s+pred\n",
    "    struth = s+truth\n",
    "    r = spred ^ struth\n",
    "    return r\n",
    "shift_pos = np.frompyfunc(shift_pos_lzc, 3, 1)"
   ]
  },
  {
   "cell_type": "code",
   "execution_count": null,
   "metadata": {},
   "outputs": [],
   "source": [
    "vectorized = shift_pos(df.prediction, df.truth, 31)\n",
    "iterative = np.zeros_like(vectorized)\n",
    "for i in range(vectorized.size):\n",
    "    iterative[i] = shift_pos(df.prediction[i], df.truth[i], 31)\n",
    "np.array_equal(vectorized, iterative) ## Vectorisation functions as expected"
   ]
  },
  {
   "cell_type": "code",
   "execution_count": null,
   "metadata": {},
   "outputs": [],
   "source": [
    "df['lzc_s31'] = lzcu(shift_pos(df.prediction, df.truth, 31), 32)"
   ]
  },
  {
   "cell_type": "code",
   "execution_count": null,
   "metadata": {},
   "outputs": [],
   "source": [
    "df.iloc[1:,-3:].plot(figsize=(15,5));\n",
    "plt.savefig('diff_s31_xor.svg')"
   ]
  },
  {
   "cell_type": "code",
   "execution_count": null,
   "metadata": {},
   "outputs": [],
   "source": [
    "all(df['lzc_s31'] <= df['lzc_diff']), all(df['lzc_s31'] <= df['lzc_xor']), all(df['lzc_xor'] <= df['lzc_s31'])"
   ]
  },
  {
   "cell_type": "code",
   "execution_count": null,
   "metadata": {},
   "outputs": [],
   "source": [
    "all_cases = df.index.size\n",
    "# diff_better = df.loc[:,'xor'] >= df.loc[:,'diff']\n",
    "diff_bits_better = df.loc[:,'lzc_s31'] < df.loc[:,'lzc_diff']\n",
    "diff_bits_better_2bits = df.loc[:,'lzc_s31'] + 2 <= df.loc[:,'lzc_diff']\n",
    "all_cases, None, diff_bits_better.sum(), diff_bits_better_2bits.sum()"
   ]
  },
  {
   "cell_type": "code",
   "execution_count": null,
   "metadata": {},
   "outputs": [],
   "source": [
    "def shift_pos_lzc_both(pred, truth, pos):        \n",
    "    s = shift_calculation_by_pos(pred, pos)\n",
    "    s1 = s\n",
    "    spred1 = s+pred\n",
    "    struth1 = s+truth\n",
    "    for i in range(0,32):\n",
    "        s = shift_calculation_by_pos(pred, pos-i)\n",
    "        if s+pred!=spred1:\n",
    "            break\n",
    "    s2 = s\n",
    "    spred2 = s+pred\n",
    "    struth2 = s+truth\n",
    "    d = max(truth,pred) - min(truth,pred)\n",
    "    NT = namedtuple(\"ShiftPosLZC\", \"lzc1,lzc2,lzcX,lzcD,shift1,shift2,pred_s1,pred_s2,truth_s1,truth_s2,residual_s1,residual_s2,xor,diff\")\n",
    "    return NT(lzc(struth1^spred1),lzc(struth2^spred2),lzc(truth^pred),lzc(d),s1,s2,spred1,spred2,struth1,struth2,struth1^spred1,spred2^struth2,truth^pred,d)"
   ]
  },
  {
   "cell_type": "code",
   "execution_count": null,
   "metadata": {},
   "outputs": [],
   "source": [
    "ix=342\n",
    "both = shift_pos_lzc_both(truth[ix-1],truth[ix], 31)\n",
    "print(ix)\n",
    "for x in [x for x in dir(both) if x[0] not in ('_','c','i')]:\n",
    "    val = getattr(both,x)\n",
    "    if x[0] not in ('r','x','d','l'):\n",
    "        print(\"{:>13} {:032b}\".format(x,val))\n",
    "    else:\n",
    "        print(\"{:>13} {}\".format(x,val))"
   ]
  },
  {
   "cell_type": "code",
   "execution_count": null,
   "metadata": {},
   "outputs": [],
   "source": [
    "# Gibt es Fälle bei denen immer s1 bzw. s2 besser ist? Was sind die Konditionen hierfür?"
   ]
  },
  {
   "cell_type": "code",
   "execution_count": null,
   "metadata": {},
   "outputs": [],
   "source": [
    "df['lzc_s30'] = 0\n",
    "for k in range(1,df.index.size):\n",
    "    both = shift_pos_lzc_both(truth[k-1],truth[k], 31)\n",
    "    df.iloc[k,-1] = both.lzc2"
   ]
  },
  {
   "cell_type": "code",
   "execution_count": null,
   "metadata": {
    "scrolled": false
   },
   "outputs": [],
   "source": [
    "df.head()"
   ]
  },
  {
   "cell_type": "code",
   "execution_count": null,
   "metadata": {},
   "outputs": [],
   "source": [
    "df.sum(axis=0).astype(int)"
   ]
  },
  {
   "cell_type": "code",
   "execution_count": null,
   "metadata": {},
   "outputs": [],
   "source": [
    "df.iloc[:,-2:].max(axis=1).sum(), (df.iloc[:,-2:].max(axis=1) > df.lzc_diff).sum()"
   ]
  },
  {
   "cell_type": "code",
   "execution_count": null,
   "metadata": {},
   "outputs": [],
   "source": [
    "(df.loc[:,'lzc_s31'] - df.loc[:,'lzc_s30']).min()"
   ]
  },
  {
   "cell_type": "code",
   "execution_count": null,
   "metadata": {},
   "outputs": [],
   "source": [
    "df.iloc[1:,-4:].min()"
   ]
  },
  {
   "cell_type": "code",
   "execution_count": null,
   "metadata": {},
   "outputs": [],
   "source": [
    "df.loc[:,'diff'].argmin()"
   ]
  },
  {
   "cell_type": "code",
   "execution_count": null,
   "metadata": {},
   "outputs": [],
   "source": [
    "df.iloc[112,]"
   ]
  },
  {
   "cell_type": "code",
   "execution_count": null,
   "metadata": {},
   "outputs": [],
   "source": [
    "# how about making the goal not dependent\n",
    "def shift_calculation_by_pos_hardcoded(prediction, pos, bits=32):\n",
    "    \"\"\"\n",
    "    Shifted residue calculation\n",
    "    \"\"\"\n",
    "    pos = bits - pos\n",
    "    string_repr = np.binary_repr(prediction,bits)\n",
    "    last_bit = string_repr[pos-1]\n",
    "    tmp = string_repr[:pos]\n",
    "    if last_bit == \"0\":\n",
    "        val = \"10\"\n",
    "    else:\n",
    "        val = \"01\"\n",
    "    goal = val*((32-pos)//2)\n",
    "    h = tmp+goal\n",
    "    if len(h) == 31:\n",
    "        h = h + h[-2]\n",
    "    shift = int(h,2) - prediction\n",
    "    return shift\n",
    "\n",
    "def shift_pos_lzc(pred, truth, pos):\n",
    "    s = shift_calculation_by_pos(pred, pos)\n",
    "    spred = s+pred\n",
    "    struth = s+truth\n",
    "    r = spred ^ struth\n",
    "    return r\n",
    "shift_pos = np.frompyfunc(shift_pos_lzc, 3, 1)"
   ]
  },
  {
   "cell_type": "code",
   "execution_count": null,
   "metadata": {},
   "outputs": [],
   "source": [
    "v1 = '0'+('10'*16)[:-1]\n",
    "v2 = '1'+('01'*16)[:-1]\n",
    "v1,v2,int(v1,2),int(v2,2)"
   ]
  },
  {
   "cell_type": "code",
   "execution_count": null,
   "metadata": {},
   "outputs": [],
   "source": [
    "(df.lzc_s31 + 2 < df.lzc_xor).sum()"
   ]
  },
  {
   "cell_type": "code",
   "execution_count": null,
   "metadata": {},
   "outputs": [],
   "source": []
  }
 ],
 "metadata": {
  "kernelspec": {
   "display_name": "Python 3",
   "language": "python",
   "name": "python3"
  },
  "language_info": {
   "codemirror_mode": {
    "name": "ipython",
    "version": 3
   },
   "file_extension": ".py",
   "mimetype": "text/x-python",
   "name": "python",
   "nbconvert_exporter": "python",
   "pygments_lexer": "ipython3",
   "version": "3.6.6"
  }
 },
 "nbformat": 4,
 "nbformat_minor": 2
}
