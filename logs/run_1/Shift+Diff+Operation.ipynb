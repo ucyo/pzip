{
 "cells": [
  {
   "cell_type": "code",
   "execution_count": 37,
   "metadata": {},
   "outputs": [],
   "source": [
    "import numpy as np\n",
    "import pandas as pd"
   ]
  },
  {
   "cell_type": "code",
   "execution_count": 46,
   "metadata": {},
   "outputs": [],
   "source": [
    "def lzc(val, bits=32):\n",
    "    \"\"\"Count leading zeroes.\"\"\"\n",
    "    cnt = 0\n",
    "    for i in range(0, bits):\n",
    "        if val & (1 << (bits - 1 - i)) != 0:\n",
    "            break\n",
    "        cnt += 1\n",
    "    return cnt\n",
    "lzcu = np.frompyfunc(lzc, 2, 1)"
   ]
  },
  {
   "cell_type": "code",
   "execution_count": 130,
   "metadata": {
    "scrolled": false
   },
   "outputs": [],
   "source": [
    "def abs_diff(truth, pred):\n",
    "    assert truth.size == pred.size, \"Different sizes\"\n",
    "    result = np.zeros(truth.size).astype(truth.dtype)\n",
    "    sign = np.ones(truth.size).astype(bool) * False\n",
    "    for i in range(truth.size):\n",
    "        low_shot = truth[i] > pred[i]\n",
    "        result[i] = truth[i] - pred[i] if low_shot else pred[i] - truth[i]\n",
    "        sign[i] = low_shot\n",
    "    return sign, result"
   ]
  },
  {
   "cell_type": "code",
   "execution_count": 131,
   "metadata": {},
   "outputs": [],
   "source": [
    "truth = np.fromfile(\"test.npf\", \"int64\")"
   ]
  },
  {
   "cell_type": "code",
   "execution_count": 132,
   "metadata": {},
   "outputs": [],
   "source": [
    "df = pd.DataFrame({'truth':truth})"
   ]
  },
  {
   "cell_type": "code",
   "execution_count": 133,
   "metadata": {},
   "outputs": [],
   "source": [
    "df['prediction'] = df.truth.shift()\n",
    "df.loc[0,'prediction'] = 0\n",
    "df = df.astype('uint32')"
   ]
  },
  {
   "cell_type": "code",
   "execution_count": 134,
   "metadata": {
    "scrolled": false
   },
   "outputs": [],
   "source": [
    "df['xor'] = df.truth ^ df.prediction\n",
    "df['low_shot'], df['diff'] = abs_diff(df.truth, df.prediction)\n",
    "df['lzc_xor'] = lzcu(df.loc[:,'xor'], 32)\n",
    "df['lzc_diff'] = lzcu(df.loc[:,'diff'], 32)"
   ]
  },
  {
   "cell_type": "code",
   "execution_count": 135,
   "metadata": {},
   "outputs": [
    {
     "data": {
      "text/html": [
       "<div>\n",
       "<style scoped>\n",
       "    .dataframe tbody tr th:only-of-type {\n",
       "        vertical-align: middle;\n",
       "    }\n",
       "\n",
       "    .dataframe tbody tr th {\n",
       "        vertical-align: top;\n",
       "    }\n",
       "\n",
       "    .dataframe thead th {\n",
       "        text-align: right;\n",
       "    }\n",
       "</style>\n",
       "<table border=\"1\" class=\"dataframe\">\n",
       "  <thead>\n",
       "    <tr style=\"text-align: right;\">\n",
       "      <th></th>\n",
       "      <th>truth</th>\n",
       "      <th>prediction</th>\n",
       "      <th>xor</th>\n",
       "      <th>low_shot</th>\n",
       "      <th>diff</th>\n",
       "      <th>lzc_xor</th>\n",
       "      <th>lzc_diff</th>\n",
       "    </tr>\n",
       "  </thead>\n",
       "  <tbody>\n",
       "    <tr>\n",
       "      <th>0</th>\n",
       "      <td>1228193487</td>\n",
       "      <td>0</td>\n",
       "      <td>1228193487</td>\n",
       "      <td>True</td>\n",
       "      <td>1228193487</td>\n",
       "      <td>1</td>\n",
       "      <td>1</td>\n",
       "    </tr>\n",
       "    <tr>\n",
       "      <th>1</th>\n",
       "      <td>1228175479</td>\n",
       "      <td>1228193487</td>\n",
       "      <td>50872</td>\n",
       "      <td>False</td>\n",
       "      <td>18008</td>\n",
       "      <td>16</td>\n",
       "      <td>17</td>\n",
       "    </tr>\n",
       "    <tr>\n",
       "      <th>2</th>\n",
       "      <td>1228178323</td>\n",
       "      <td>1228175479</td>\n",
       "      <td>64484</td>\n",
       "      <td>True</td>\n",
       "      <td>2844</td>\n",
       "      <td>16</td>\n",
       "      <td>20</td>\n",
       "    </tr>\n",
       "    <tr>\n",
       "      <th>3</th>\n",
       "      <td>1228204314</td>\n",
       "      <td>1228178323</td>\n",
       "      <td>27273</td>\n",
       "      <td>True</td>\n",
       "      <td>25991</td>\n",
       "      <td>17</td>\n",
       "      <td>17</td>\n",
       "    </tr>\n",
       "    <tr>\n",
       "      <th>4</th>\n",
       "      <td>1228217687</td>\n",
       "      <td>1228204314</td>\n",
       "      <td>128077</td>\n",
       "      <td>True</td>\n",
       "      <td>13373</td>\n",
       "      <td>15</td>\n",
       "      <td>18</td>\n",
       "    </tr>\n",
       "  </tbody>\n",
       "</table>\n",
       "</div>"
      ],
      "text/plain": [
       "        truth  prediction         xor  low_shot        diff lzc_xor lzc_diff\n",
       "0  1228193487           0  1228193487      True  1228193487       1        1\n",
       "1  1228175479  1228193487       50872     False       18008      16       17\n",
       "2  1228178323  1228175479       64484      True        2844      16       20\n",
       "3  1228204314  1228178323       27273      True       25991      17       17\n",
       "4  1228217687  1228204314      128077      True       13373      15       18"
      ]
     },
     "execution_count": 135,
     "metadata": {},
     "output_type": "execute_result"
    }
   ],
   "source": [
    "df.head()"
   ]
  },
  {
   "cell_type": "code",
   "execution_count": 136,
   "metadata": {},
   "outputs": [
    {
     "data": {
      "text/plain": [
       "(1000, 1000, 721, 349)"
      ]
     },
     "execution_count": 136,
     "metadata": {},
     "output_type": "execute_result"
    }
   ],
   "source": [
    "all_cases = df.index.size\n",
    "diff_better = df.loc[:,'xor'] >= df.loc[:,'diff']\n",
    "diff_bits_better = lzcu(df.loc[:,'xor'], 32) < lzcu(df.loc[:,'diff'], 32)\n",
    "diff_bits_better_2bits = lzcu(df.loc[:,'xor'], 32) + 2 <= lzcu(df.loc[:,'diff'], 32) \n",
    "all_cases, diff_better.sum(), diff_bits_better.sum(), diff_bits_better_2bits.sum()"
   ]
  },
  {
   "cell_type": "code",
   "execution_count": 137,
   "metadata": {},
   "outputs": [
    {
     "data": {
      "text/plain": [
       "(19388, 18049)"
      ]
     },
     "execution_count": 137,
     "metadata": {},
     "output_type": "execute_result"
    }
   ],
   "source": [
    "df.lzc_diff.sum(), df.lzc_xor.sum()\n",
    "# diff_lzc - sign_bits, xor_lzc + first_bit"
   ]
  },
  {
   "cell_type": "code",
   "execution_count": 138,
   "metadata": {},
   "outputs": [
    {
     "data": {
      "text/plain": [
       "0"
      ]
     },
     "execution_count": 138,
     "metadata": {},
     "output_type": "execute_result"
    }
   ],
   "source": [
    "df[df.lzc_xor > df.lzc_diff].size"
   ]
  },
  {
   "cell_type": "markdown",
   "metadata": {},
   "source": [
    "- DIFF is often smaller than XOR regarding absolute representation or bit.\n",
    "- "
   ]
  },
  {
   "cell_type": "code",
   "execution_count": 140,
   "metadata": {},
   "outputs": [
    {
     "data": {
      "text/plain": [
       "0       True\n",
       "1      False\n",
       "2       True\n",
       "3       True\n",
       "4       True\n",
       "5      False\n",
       "6      False\n",
       "7       True\n",
       "8       True\n",
       "9       True\n",
       "10      True\n",
       "11      True\n",
       "12     False\n",
       "13      True\n",
       "14      True\n",
       "15     False\n",
       "16     False\n",
       "17     False\n",
       "18     False\n",
       "19      True\n",
       "20      True\n",
       "21     False\n",
       "22     False\n",
       "23     False\n",
       "24     False\n",
       "25     False\n",
       "26      True\n",
       "27     False\n",
       "28     False\n",
       "29      True\n",
       "       ...  \n",
       "970     True\n",
       "971     True\n",
       "972    False\n",
       "973     True\n",
       "974     True\n",
       "975    False\n",
       "976    False\n",
       "977     True\n",
       "978    False\n",
       "979     True\n",
       "980     True\n",
       "981     True\n",
       "982     True\n",
       "983     True\n",
       "984    False\n",
       "985    False\n",
       "986    False\n",
       "987     True\n",
       "988    False\n",
       "989    False\n",
       "990    False\n",
       "991    False\n",
       "992    False\n",
       "993     True\n",
       "994    False\n",
       "995    False\n",
       "996    False\n",
       "997    False\n",
       "998    False\n",
       "999    False\n",
       "Name: low_shot, Length: 1000, dtype: bool"
      ]
     },
     "execution_count": 140,
     "metadata": {},
     "output_type": "execute_result"
    }
   ],
   "source": [
    "df.low_shot"
   ]
  },
  {
   "cell_type": "code",
   "execution_count": null,
   "metadata": {},
   "outputs": [],
   "source": []
  }
 ],
 "metadata": {
  "kernelspec": {
   "display_name": "Python 3",
   "language": "python",
   "name": "python3"
  },
  "language_info": {
   "codemirror_mode": {
    "name": "ipython",
    "version": 3
   },
   "file_extension": ".py",
   "mimetype": "text/x-python",
   "name": "python",
   "nbconvert_exporter": "python",
   "pygments_lexer": "ipython3",
   "version": "3.6.6"
  }
 },
 "nbformat": 4,
 "nbformat_minor": 2
}
