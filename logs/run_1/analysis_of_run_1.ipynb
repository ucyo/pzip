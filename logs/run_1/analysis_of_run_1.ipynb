{
 "cells": [
  {
   "cell_type": "markdown",
   "metadata": {},
   "source": [
    "This notebook should help with the analysis of the results from the first application of the correction of values.\n",
    "The research question is "
   ]
  },
  {
   "cell_type": "markdown",
   "metadata": {},
   "source": [
    "- Is there a correlation between degradation and overshooting of predictions?\n",
    "- Should the restricted area be calculated using the truth@t-1 and truth@t-2 instead of truth@t-1 and pred@t-1?\n",
    "- Should the restricted area be depending on the length of 1s/0s on the prediction?\n",
    "- How is the degradation distributed?"
   ]
  },
  {
   "cell_type": "markdown",
   "metadata": {},
   "source": [
    "- How big is the influence of the correction if the restriction is too big?\n",
    "- How to calculate beta and parts of the correction?\n",
    "- How to consider dimension jumps in the correction?"
   ]
  },
  {
   "cell_type": "code",
   "execution_count": 103,
   "metadata": {},
   "outputs": [],
   "source": [
    "from glob import glob\n",
    "import pandas as pd\n",
    "from io import StringIO"
   ]
  },
  {
   "cell_type": "markdown",
   "metadata": {},
   "source": [
    "Reading in the data from the log files as pandas panel objects."
   ]
  },
  {
   "cell_type": "code",
   "execution_count": 104,
   "metadata": {},
   "outputs": [],
   "source": [
    "method = \"PreviousError\"\n",
    "# method = \"Delta2PowerTwo\""
   ]
  },
  {
   "cell_type": "code",
   "execution_count": 105,
   "metadata": {},
   "outputs": [],
   "source": [
    "def read_file(filename, methodshorthand):\n",
    "    df = \"\"\n",
    "    if methodshorthand == \"prer\":\n",
    "        with open(filename, 'r') as f:\n",
    "            file_str = [line.split(',', 1)[1] for line in f.readlines() if \",\" in line and \"offset\" not in line]\n",
    "        file_str = StringIO(\"\".join(file_str))\n",
    "        df = pd.read_csv(file_str, index_col=0, header=None)\n",
    "        df.columns = [\"uncorrected\", \"corrected\", \"truth\", \"overshot\", \"offset\", \"empty\"]\n",
    "        df.index.name = \"index\"\n",
    "    elif methodshorthand == \"d2p2\":\n",
    "        with open(logfiles[num], 'r') as f:\n",
    "            file_str = [line.split(',', 1)[1] for line in f.readlines() if \",\" in line and \"restricted\" not in line]\n",
    "        file_str = StringIO(\"\".join(file_str))\n",
    "        df = pd.read_csv(file_str, index_col=0, header=None)\n",
    "        df.columns = [\"uncorrected\", \"corrected\", \"truth\", \"overshot\", \"restricted\", \"delta\"]\n",
    "        df.index.name = \"index\"\n",
    "    return df\n",
    "\n",
    "def get_panel(method):\n",
    "    handles = dict(PreviousError=\"prer\", Delta2PowerTwo=\"d2p2\")\n",
    "    shorthand = handles[method]\n",
    "    logfiles =  './*{}.log'.format(shorthand)\n",
    "    logfiles = glob(logfiles)\n",
    "    return pd.Panel({fname:read_file(fname, shorthand) for fname in logfiles})"
   ]
  },
  {
   "cell_type": "code",
   "execution_count": 106,
   "metadata": {},
   "outputs": [
    {
     "name": "stderr",
     "output_type": "stream",
     "text": [
      "/home/ucyo/Environments/infospace/lib/python3.6/site-packages/ipykernel_launcher.py:1: FutureWarning: \n",
      "Panel is deprecated and will be removed in a future version.\n",
      "The recommended way to represent these types of 3-dimensional data are with a MultiIndex on a DataFrame, via the Panel.to_frame() method\n",
      "Alternatively, you can use the xarray package http://xarray.pydata.org/en/stable/.\n",
      "Pandas provides a `.to_xarray()` method to help automate this conversion.\n",
      "\n",
      "  \"\"\"Entry point for launching an IPython kernel.\n"
     ]
    }
   ],
   "source": [
    "panel = get_panel(method)"
   ]
  },
  {
   "cell_type": "markdown",
   "metadata": {},
   "source": [
    "Actual processing of the data"
   ]
  },
  {
   "cell_type": "code",
   "execution_count": null,
   "metadata": {},
   "outputs": [],
   "source": []
  }
 ],
 "metadata": {
  "kernelspec": {
   "display_name": "Python 3",
   "language": "python",
   "name": "python3"
  },
  "language_info": {
   "codemirror_mode": {
    "name": "ipython",
    "version": 3
   },
   "file_extension": ".py",
   "mimetype": "text/x-python",
   "name": "python",
   "nbconvert_exporter": "python",
   "pygments_lexer": "ipython3",
   "version": "3.6.6"
  }
 },
 "nbformat": 4,
 "nbformat_minor": 2
}
