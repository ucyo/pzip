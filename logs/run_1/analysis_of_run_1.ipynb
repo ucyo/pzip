{
 "cells": [
  {
   "cell_type": "markdown",
   "metadata": {},
   "source": [
    "This notebook should help with the analysis of the results from the first application of the correction of values.\n",
    "The research question is "
   ]
  },
  {
   "cell_type": "markdown",
   "metadata": {},
   "source": [
    "- Is there a correlation between degradation and overshooting of predictions?\n",
    "- Should the restricted area be calculated using the truth@t-1 and truth@t-2 instead of truth@t-1 and pred@t-1?\n",
    "- Should the restricted area be depending on the length of 1s/0s on the prediction?\n",
    "- How is the degradation distributed?"
   ]
  },
  {
   "cell_type": "markdown",
   "metadata": {},
   "source": [
    "- How big is the influence of the correction if the restriction is too big?\n",
    "- How to calculate beta and parts of the correction?\n",
    "- How to consider dimension jumps in the correction?"
   ]
  },
  {
   "cell_type": "markdown",
   "metadata": {},
   "source": [
    "## Reading log files"
   ]
  },
  {
   "cell_type": "code",
   "execution_count": null,
   "metadata": {},
   "outputs": [],
   "source": [
    "from glob import glob\n",
    "import pandas as pd\n",
    "from io import StringIO\n",
    "import numpy as np\n",
    "from collections import namedtuple"
   ]
  },
  {
   "cell_type": "markdown",
   "metadata": {},
   "source": [
    "Reading in the data from the log files as pandas panel objects."
   ]
  },
  {
   "cell_type": "code",
   "execution_count": null,
   "metadata": {},
   "outputs": [],
   "source": [
    "methods = [\"Delta2PowerTwo\",\"PreviousError\"]"
   ]
  },
  {
   "cell_type": "code",
   "execution_count": null,
   "metadata": {},
   "outputs": [],
   "source": [
    "def read_file(filename, methodshorthand):\n",
    "    if methodshorthand == \"prer\":\n",
    "        with open(filename, 'r') as f:\n",
    "            file_str = [line.split(',', 1)[1] for line in f.readlines() if \",\" in line and \"offset\" not in line]\n",
    "            file_str = StringIO(\"\".join(file_str))\n",
    "            df = pd.read_csv(file_str, index_col=0, header=None)\n",
    "            df.columns = [\"uncorrected\", \"corrected\", \"truth\", \"overshot\", \"offset\", \"empty\"]\n",
    "            df.index.name = \"index\"\n",
    "        return df\n",
    "    elif methodshorthand == \"d2p2\":\n",
    "        with open(filename, 'r') as f:\n",
    "            file_str = [line.split(',', 1)[1] for line in f.readlines() if \",\" in line and \"restricted\" not in line]\n",
    "            file_str = StringIO(\"\".join(file_str))\n",
    "            df = pd.read_csv(file_str, index_col=0, header=None)\n",
    "            df.columns = [\"uncorrected\", \"corrected\", \"truth\", \"overshot\", \"restricted\", \"delta\"]\n",
    "            df.index.name = \"index\"\n",
    "        return df\n",
    "\n",
    "def get_panel(method):\n",
    "    handles = dict(PreviousError=\"prer\", Delta2PowerTwo=\"d2p2\")\n",
    "    shorthand = handles[method]\n",
    "    logfiles =  './*{}.log'.format(shorthand)\n",
    "    logfiles = sorted(glob(logfiles))\n",
    "    return pd.Panel({fname:read_file(fname, shorthand) for fname in logfiles})"
   ]
  },
  {
   "cell_type": "markdown",
   "metadata": {},
   "source": [
    "## Actual processing of the data"
   ]
  },
  {
   "cell_type": "code",
   "execution_count": null,
   "metadata": {},
   "outputs": [],
   "source": [
    "def lzc(val, bits=32):\n",
    "    \"\"\"Count leading zeroes.\"\"\"\n",
    "    cnt = 0\n",
    "    for i in range(0, bits):\n",
    "        if val & (1 << (bits - 1 - i)) != 0:\n",
    "            break\n",
    "        cnt += 1\n",
    "    return cnt\n",
    "lzcu = np.frompyfunc(lzc, 2, 1)"
   ]
  },
  {
   "cell_type": "markdown",
   "metadata": {},
   "source": [
    " ### Correlation of overshooting and performance"
   ]
  },
  {
   "cell_type": "code",
   "execution_count": null,
   "metadata": {
    "scrolled": false
   },
   "outputs": [],
   "source": [
    "def calculate_performance_correlation_with_overshooting(filename, panel):\n",
    "    uncorrected_residual = np.bitwise_xor(panel[filename,:,:]['uncorrected'], panel[filename,:,:]['truth'])\n",
    "    corrected_residual = np.bitwise_xor(panel[filename,:,:]['corrected'], panel[filename,:,:]['truth'])\n",
    "    better_cases = lzcu(corrected_residual, 32) > lzcu(uncorrected_residual, 32)\n",
    "    same_cases = lzcu(corrected_residual, 32) == lzcu(uncorrected_residual, 32)\n",
    "    worse_cases = lzcu(corrected_residual, 32) < lzcu(uncorrected_residual, 32)\n",
    "    overshooting = panel[filename,:,\"overshot\"]\n",
    "    b_correlation = np.corrcoef(overshooting.astype(bool), better_cases.astype(bool))[0,1]\n",
    "    s_correlation = np.corrcoef(overshooting.astype(bool), same_cases.astype(bool))[0,1]\n",
    "    w_correlation = np.corrcoef(overshooting.astype(bool), worse_cases.astype(bool))[0,1]\n",
    "    \n",
    "    correlation_performance_overshooting = namedtuple(\"CPOS\", \"fname,better,worse,same,bcorr,wcorr,scorr\")\n",
    "    return correlation_performance_overshooting(filename,better_cases.sum(),worse_cases.sum(),same_cases.sum(),\n",
    "                                                b_correlation,w_correlation, s_correlation)"
   ]
  },
  {
   "cell_type": "code",
   "execution_count": null,
   "metadata": {},
   "outputs": [],
   "source": [
    "threshold = .1\n",
    "for m in methods:\n",
    "    panel = get_panel(m)\n",
    "    all_performances = [calculate_performance_correlation_with_overshooting(x, panel) for x in panel.items]\n",
    "    print(m)\n",
    "    significant = [print(x.fname,x.bcorr,sep='\\t') for x in all_performances if abs(x.bcorr) > threshold]"
   ]
  },
  {
   "cell_type": "code",
   "execution_count": null,
   "metadata": {},
   "outputs": [],
   "source": []
  },
  {
   "cell_type": "code",
   "execution_count": null,
   "metadata": {},
   "outputs": [],
   "source": []
  }
 ],
 "metadata": {
  "kernelspec": {
   "display_name": "Python 3",
   "language": "python",
   "name": "python3"
  },
  "language_info": {
   "codemirror_mode": {
    "name": "ipython",
    "version": 3
   },
   "file_extension": ".py",
   "mimetype": "text/x-python",
   "name": "python",
   "nbconvert_exporter": "python",
   "pygments_lexer": "ipython3",
   "version": "3.6.6"
  }
 },
 "nbformat": 4,
 "nbformat_minor": 2
}
