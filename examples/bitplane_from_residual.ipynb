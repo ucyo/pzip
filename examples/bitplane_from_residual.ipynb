{
 "cells": [
  {
   "cell_type": "code",
   "execution_count": null,
   "metadata": {},
   "outputs": [],
   "source": [
    "import numpy as np"
   ]
  },
  {
   "cell_type": "markdown",
   "metadata": {},
   "source": [
    "# Bitplane from residual"
   ]
  },
  {
   "cell_type": "code",
   "execution_count": null,
   "metadata": {},
   "outputs": [],
   "source": [
    "bitstring_data = [\n",
    "    '00101001',\n",
    "    '11010101',\n",
    "    '00000101',\n",
    "    '11101010',\n",
    "    '10100101'\n",
    "]"
   ]
  },
  {
   "cell_type": "code",
   "execution_count": null,
   "metadata": {},
   "outputs": [],
   "source": [
    "data = np.array([int(x,2) for x in bitstring_data], dtype='uint8')\n",
    "data"
   ]
  },
  {
   "cell_type": "code",
   "execution_count": null,
   "metadata": {},
   "outputs": [],
   "source": [
    "[np.binary_repr(x) for x in data]"
   ]
  },
  {
   "cell_type": "markdown",
   "metadata": {},
   "source": [
    "## With string operations"
   ]
  },
  {
   "cell_type": "code",
   "execution_count": null,
   "metadata": {},
   "outputs": [],
   "source": [
    "minimal_string_repr = [np.binary_repr(x) for x in data]\n",
    "minimal_string_repr_len = [len(x) for x in minimal_string_repr]\n",
    "result = ''\n",
    "while any([x != '' for x in minimal_string_repr]):\n",
    "    for i in range(len(minimal_string_repr)):\n",
    "        if minimal_string_repr[i] != \"\":\n",
    "            result += minimal_string_repr[i][0]\n",
    "            minimal_string_repr[i] = minimal_string_repr[i][1:]\n",
    "result = [result[i:i+8] for i in range(0,len(result),8)]\n",
    "result[-1] = \"0\"*(8 - len(result[-1])) + result[-1]\n",
    "result = [int(x,2) for x in result]"
   ]
  },
  {
   "cell_type": "code",
   "execution_count": null,
   "metadata": {},
   "outputs": [],
   "source": [
    "minimal_string_repr_len, result"
   ]
  },
  {
   "cell_type": "code",
   "execution_count": null,
   "metadata": {},
   "outputs": [],
   "source": [
    "# split = [1] * len(minimal_string_repr_len)\n",
    "# result = result[len(minimal_string_repr_len) - 1:]\n",
    "# minimal_string_repr_len = [x - 1 for x in minimal_string_repr_len]\n",
    "\n",
    "result = \"\".join([np.binary_repr(x) for x in result])\n",
    "number_of_values = len(minimal_string_repr_len)\n",
    "split = [0] * number_of_values\n",
    "while any([x > 0 for x in minimal_string_repr_len]):\n",
    "    for i in range(number_of_values):\n",
    "        if minimal_string_repr_len[i] > 0:\n",
    "            bit = result[0]\n",
    "            result = result[1:]\n",
    "            split[i] <<= 1\n",
    "            split[i] += int(bit)\n",
    "            minimal_string_repr_len[i] -= 1"
   ]
  },
  {
   "cell_type": "code",
   "execution_count": null,
   "metadata": {},
   "outputs": [],
   "source": [
    "split"
   ]
  },
  {
   "cell_type": "markdown",
   "metadata": {},
   "source": [
    "## with numbers"
   ]
  },
  {
   "cell_type": "code",
   "execution_count": null,
   "metadata": {},
   "outputs": [],
   "source": [
    "data"
   ]
  },
  {
   "cell_type": "code",
   "execution_count": null,
   "metadata": {},
   "outputs": [],
   "source": [
    "def to_bitplanes_unregular(data):\n",
    "    block_sizes = [len(np.binary_repr(x)) for x in data]\n",
    "    result = []\n",
    "    ix = 0\n",
    "    val = 0\n",
    "    while any([x>0 for x in block_sizes]):\n",
    "        block_sizes = [x-1 for x in block_sizes]\n",
    "        for i in range(len(block_sizes)):\n",
    "            if block_sizes[i] >= 0:\n",
    "                bit = (data[i] & (1 << block_sizes[i])) > 0\n",
    "                val <<= 1\n",
    "                if bit: \n",
    "                    val += 1\n",
    "                ix += 1\n",
    "                if ix == 8:\n",
    "                    result.append(val)\n",
    "                    val = 0\n",
    "                    ix = 0\n",
    "    push = 8 - len(np.binary_repr(val))\n",
    "    result.append(val << push)\n",
    "    return [len(np.binary_repr(x)) for x in data], result, push"
   ]
  },
  {
   "cell_type": "code",
   "execution_count": null,
   "metadata": {},
   "outputs": [],
   "source": [
    "def from_bitplanes_unregular(sizes, bits, push):\n",
    "    bitstream = [bits[s] & (1 << (8 - powr - 1)) > 0 for s in range(len(bits)) for powr in range(8)][:-push]\n",
    "    split = [0] * len(sizes)\n",
    "    while any([x > 0 for x in sizes]):\n",
    "        for i in range(len(sizes)):\n",
    "            if sizes[i] > 0:\n",
    "                bit = bitstream[0]\n",
    "                bitstream = bitstream[1:]\n",
    "                split[i] <<= 1\n",
    "                split[i] += int(bit)\n",
    "                sizes[i] -= 1\n",
    "    return np.array(split)"
   ]
  },
  {
   "cell_type": "code",
   "execution_count": null,
   "metadata": {},
   "outputs": [],
   "source": [
    "from_bitplanes_unregular(*to_bitplanes_unregular(data))"
   ]
  },
  {
   "cell_type": "markdown",
   "metadata": {},
   "source": [
    "# Bitplane from u8"
   ]
  },
  {
   "cell_type": "code",
   "execution_count": null,
   "metadata": {},
   "outputs": [],
   "source": [
    "def to_bitplanes_for_u8(data):\n",
    "    result = []\n",
    "    scanned = 0\n",
    "    pos = 7\n",
    "    value = 0\n",
    "    while pos >= 0:\n",
    "        check_value = 1 << pos\n",
    "        for i in range(data.size):\n",
    "            value <<= 1\n",
    "            value += int((check_value & data[i]) > 0)\n",
    "            scanned += 1\n",
    "            if scanned == 8:\n",
    "                result.append(value)\n",
    "                value = 0\n",
    "                scanned = 0\n",
    "        pos -= 1\n",
    "    return np.array(result, dtype='uint8')"
   ]
  },
  {
   "cell_type": "code",
   "execution_count": null,
   "metadata": {},
   "outputs": [],
   "source": [
    "def from_bitplanes_for_u8(data):\n",
    "    split = [0] * data.size\n",
    "    for i in range(5*8):\n",
    "        elem = i%5\n",
    "        powr = 8 - i//5 - 1\n",
    "        elem_orig = i//8\n",
    "        powr_orig = 8 - i%8 - 1\n",
    "        if (data[elem_orig] & (1 << powr_orig)) > 0:\n",
    "            split[elem] += (1 << powr)\n",
    "    return np.array(split, dtype='uint8')"
   ]
  },
  {
   "cell_type": "code",
   "execution_count": null,
   "metadata": {},
   "outputs": [],
   "source": [
    "data"
   ]
  },
  {
   "cell_type": "code",
   "execution_count": null,
   "metadata": {},
   "outputs": [],
   "source": [
    "to_bitplanes_for_u8(data)"
   ]
  },
  {
   "cell_type": "code",
   "execution_count": null,
   "metadata": {},
   "outputs": [],
   "source": [
    "from_bitplanes_for_u8(to_bitplanes_for_u8(data))"
   ]
  },
  {
   "cell_type": "code",
   "execution_count": null,
   "metadata": {},
   "outputs": [],
   "source": []
  },
  {
   "cell_type": "code",
   "execution_count": null,
   "metadata": {},
   "outputs": [],
   "source": []
  }
 ],
 "metadata": {
  "kernelspec": {
   "display_name": "Python 3",
   "language": "python",
   "name": "python3"
  },
  "language_info": {
   "codemirror_mode": {
    "name": "ipython",
    "version": 3
   },
   "file_extension": ".py",
   "mimetype": "text/x-python",
   "name": "python",
   "nbconvert_exporter": "python",
   "pygments_lexer": "ipython3",
   "version": "3.6.6"
  }
 },
 "nbformat": 4,
 "nbformat_minor": 2
}
